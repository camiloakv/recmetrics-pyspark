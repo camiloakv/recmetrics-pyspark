{
  "nbformat": 4,
  "nbformat_minor": 0,
  "metadata": {
    "colab": {
      "provenance": []
    },
    "kernelspec": {
      "name": "python3",
      "display_name": "Python 3"
    },
    "language_info": {
      "name": "python"
    }
  },
  "cells": [
    {
      "cell_type": "markdown",
      "source": [
        "# Recommender Systems metrics\n",
        "\n",
        "Note: we use the `dfp_` prefix for pandas DataFrames and the `df_` prefix for pySpark DataFrames"
      ],
      "metadata": {
        "id": "4pMHxgtWPhSM"
      }
    },
    {
      "cell_type": "code",
      "source": [
        "import numpy as np\n",
        "import pandas as pd"
      ],
      "metadata": {
        "id": "xqgPFtcGPepc"
      },
      "execution_count": 1,
      "outputs": []
    },
    {
      "cell_type": "code",
      "source": [
        "!pip install pyspark"
      ],
      "metadata": {
        "colab": {
          "base_uri": "https://localhost:8080/"
        },
        "id": "4GkJpfRYI1NT",
        "outputId": "b086252a-540f-4a2b-9723-75b074350f87"
      },
      "execution_count": 2,
      "outputs": [
        {
          "output_type": "stream",
          "name": "stdout",
          "text": [
            "Requirement already satisfied: pyspark in /usr/local/lib/python3.10/dist-packages (3.4.1)\n",
            "Requirement already satisfied: py4j==0.10.9.7 in /usr/local/lib/python3.10/dist-packages (from pyspark) (0.10.9.7)\n"
          ]
        }
      ]
    },
    {
      "cell_type": "code",
      "source": [
        "from pyspark.sql import functions as sf"
      ],
      "metadata": {
        "id": "FnkdLOPlplWC"
      },
      "execution_count": 3,
      "outputs": []
    },
    {
      "cell_type": "markdown",
      "source": [
        "## Create ratings\n",
        "\n",
        "First off, lets create some mock ratings. i.e., persons who bought products gave each of them a rating from zero to five (a real number). This is an explicit rating scenario."
      ],
      "metadata": {
        "id": "vXfT4aGRPj0f"
      }
    },
    {
      "cell_type": "markdown",
      "source": [
        "### Define products\n",
        "\n",
        "Lets create a table of products with categories and subcategories (we will use these later)"
      ],
      "metadata": {
        "id": "4kDwpLC8Px1S"
      }
    },
    {
      "cell_type": "code",
      "source": [
        "l_products = [\n",
        "  [\"rice\", \"red_bean\", \"white_bean\", \"lentil\", \"pea\", \"chickpea\", ],\n",
        "  [\"banana\", \"orange\", \"apple\", \"pear\", \"pineaple\", \"strawberry\", \"grape\", ],\n",
        "  [\"tomato\", \"carrot\", \"beet\", \"potato\", \"onion\", \"garlic\", \"ginger\", \"basil\", \"oregano\", \"avocado\", ],\n",
        "  [\"milk\", \"cream\", \"cheese\", \"butter\", ],\n",
        "  [\"orange_juice\", \"grape_juice\", \"raspberry_juice\", ],\n",
        "  [\"coke\", \"pepsi\", \"sprite\", \"fanta\", \"tonic\", ],\n",
        "  [\"beer\", \"red_wine\", \"white_wine\", \"whiskey\", \"bourbon\", \"vodka\", \"gin\", ],\n",
        "  [\"soap\", \"shampoo\", \"detergent\", ],\n",
        "  [\"toilet_paper\", ],\n",
        "]"
      ],
      "metadata": {
        "id": "cyc4YHiiWRAM"
      },
      "execution_count": 4,
      "outputs": []
    },
    {
      "cell_type": "code",
      "source": [
        "l_cats_subcats = [\n",
        "    [\"foods\", \"grains\"],\n",
        "    [\"foods\", \"fruits\"],\n",
        "    [\"foods\", \"vegetables\"],\n",
        "    [\"foods\", \"dairy\"],\n",
        "    [\"beverages\", \"juice\"],\n",
        "    [\"beverages\", \"soda\"],\n",
        "    [\"beverages\", \"alcohol\"],\n",
        "    [\"household\", \"cleaning\"],\n",
        "    [\"household\", \"misc\"],\n",
        "]"
      ],
      "metadata": {
        "id": "uh8wo4EHWff8"
      },
      "execution_count": 5,
      "outputs": []
    },
    {
      "cell_type": "code",
      "source": [
        "def add_products(df, category, subcategory, names):\n",
        "    d = {\n",
        "        \"category\": [category] * len(names),\n",
        "        \"subcategory\": [subcategory] * len(names),\n",
        "        \"name\": names,\n",
        "    }\n",
        "    df = pd.concat([df, pd.DataFrame.from_dict(d)])\n",
        "    return df"
      ],
      "metadata": {
        "id": "EpiZ_9FoRp1L"
      },
      "execution_count": 6,
      "outputs": []
    },
    {
      "cell_type": "code",
      "source": [
        "dfp_products = None\n",
        "for i, cat_subcat in enumerate(l_cats_subcats):\n",
        "    dfp_products = add_products(dfp_products, cat_subcat[0], cat_subcat[1], l_products[i])\n",
        "dfp_products = dfp_products\\\n",
        "    .reset_index(drop=True)\\\n",
        "    .reset_index(names=[\"id_product\"])"
      ],
      "metadata": {
        "id": "usE0gJIrY0Po"
      },
      "execution_count": 7,
      "outputs": []
    },
    {
      "cell_type": "code",
      "source": [
        "dfp_products"
      ],
      "metadata": {
        "colab": {
          "base_uri": "https://localhost:8080/",
          "height": 1000
        },
        "id": "Bj2y9L4KShDE",
        "outputId": "df42c576-a666-4767-eab1-eb53f3bea210"
      },
      "execution_count": 8,
      "outputs": [
        {
          "output_type": "execute_result",
          "data": {
            "text/plain": [
              "    id_product   category subcategory             name\n",
              "0            0      foods      grains             rice\n",
              "1            1      foods      grains         red_bean\n",
              "2            2      foods      grains       white_bean\n",
              "3            3      foods      grains           lentil\n",
              "4            4      foods      grains              pea\n",
              "5            5      foods      grains         chickpea\n",
              "6            6      foods      fruits           banana\n",
              "7            7      foods      fruits           orange\n",
              "8            8      foods      fruits            apple\n",
              "9            9      foods      fruits             pear\n",
              "10          10      foods      fruits         pineaple\n",
              "11          11      foods      fruits       strawberry\n",
              "12          12      foods      fruits            grape\n",
              "13          13      foods  vegetables           tomato\n",
              "14          14      foods  vegetables           carrot\n",
              "15          15      foods  vegetables             beet\n",
              "16          16      foods  vegetables           potato\n",
              "17          17      foods  vegetables            onion\n",
              "18          18      foods  vegetables           garlic\n",
              "19          19      foods  vegetables           ginger\n",
              "20          20      foods  vegetables            basil\n",
              "21          21      foods  vegetables          oregano\n",
              "22          22      foods  vegetables          avocado\n",
              "23          23      foods       dairy             milk\n",
              "24          24      foods       dairy            cream\n",
              "25          25      foods       dairy           cheese\n",
              "26          26      foods       dairy           butter\n",
              "27          27  beverages       juice     orange_juice\n",
              "28          28  beverages       juice      grape_juice\n",
              "29          29  beverages       juice  raspberry_juice\n",
              "30          30  beverages        soda             coke\n",
              "31          31  beverages        soda            pepsi\n",
              "32          32  beverages        soda           sprite\n",
              "33          33  beverages        soda            fanta\n",
              "34          34  beverages        soda            tonic\n",
              "35          35  beverages     alcohol             beer\n",
              "36          36  beverages     alcohol         red_wine\n",
              "37          37  beverages     alcohol       white_wine\n",
              "38          38  beverages     alcohol          whiskey\n",
              "39          39  beverages     alcohol          bourbon\n",
              "40          40  beverages     alcohol            vodka\n",
              "41          41  beverages     alcohol              gin\n",
              "42          42  household    cleaning             soap\n",
              "43          43  household    cleaning          shampoo\n",
              "44          44  household    cleaning        detergent\n",
              "45          45  household        misc     toilet_paper"
            ],
            "text/html": [
              "\n",
              "\n",
              "  <div id=\"df-4b5d0f8f-6b7b-4b59-b039-2cfb2818e069\">\n",
              "    <div class=\"colab-df-container\">\n",
              "      <div>\n",
              "<style scoped>\n",
              "    .dataframe tbody tr th:only-of-type {\n",
              "        vertical-align: middle;\n",
              "    }\n",
              "\n",
              "    .dataframe tbody tr th {\n",
              "        vertical-align: top;\n",
              "    }\n",
              "\n",
              "    .dataframe thead th {\n",
              "        text-align: right;\n",
              "    }\n",
              "</style>\n",
              "<table border=\"1\" class=\"dataframe\">\n",
              "  <thead>\n",
              "    <tr style=\"text-align: right;\">\n",
              "      <th></th>\n",
              "      <th>id_product</th>\n",
              "      <th>category</th>\n",
              "      <th>subcategory</th>\n",
              "      <th>name</th>\n",
              "    </tr>\n",
              "  </thead>\n",
              "  <tbody>\n",
              "    <tr>\n",
              "      <th>0</th>\n",
              "      <td>0</td>\n",
              "      <td>foods</td>\n",
              "      <td>grains</td>\n",
              "      <td>rice</td>\n",
              "    </tr>\n",
              "    <tr>\n",
              "      <th>1</th>\n",
              "      <td>1</td>\n",
              "      <td>foods</td>\n",
              "      <td>grains</td>\n",
              "      <td>red_bean</td>\n",
              "    </tr>\n",
              "    <tr>\n",
              "      <th>2</th>\n",
              "      <td>2</td>\n",
              "      <td>foods</td>\n",
              "      <td>grains</td>\n",
              "      <td>white_bean</td>\n",
              "    </tr>\n",
              "    <tr>\n",
              "      <th>3</th>\n",
              "      <td>3</td>\n",
              "      <td>foods</td>\n",
              "      <td>grains</td>\n",
              "      <td>lentil</td>\n",
              "    </tr>\n",
              "    <tr>\n",
              "      <th>4</th>\n",
              "      <td>4</td>\n",
              "      <td>foods</td>\n",
              "      <td>grains</td>\n",
              "      <td>pea</td>\n",
              "    </tr>\n",
              "    <tr>\n",
              "      <th>5</th>\n",
              "      <td>5</td>\n",
              "      <td>foods</td>\n",
              "      <td>grains</td>\n",
              "      <td>chickpea</td>\n",
              "    </tr>\n",
              "    <tr>\n",
              "      <th>6</th>\n",
              "      <td>6</td>\n",
              "      <td>foods</td>\n",
              "      <td>fruits</td>\n",
              "      <td>banana</td>\n",
              "    </tr>\n",
              "    <tr>\n",
              "      <th>7</th>\n",
              "      <td>7</td>\n",
              "      <td>foods</td>\n",
              "      <td>fruits</td>\n",
              "      <td>orange</td>\n",
              "    </tr>\n",
              "    <tr>\n",
              "      <th>8</th>\n",
              "      <td>8</td>\n",
              "      <td>foods</td>\n",
              "      <td>fruits</td>\n",
              "      <td>apple</td>\n",
              "    </tr>\n",
              "    <tr>\n",
              "      <th>9</th>\n",
              "      <td>9</td>\n",
              "      <td>foods</td>\n",
              "      <td>fruits</td>\n",
              "      <td>pear</td>\n",
              "    </tr>\n",
              "    <tr>\n",
              "      <th>10</th>\n",
              "      <td>10</td>\n",
              "      <td>foods</td>\n",
              "      <td>fruits</td>\n",
              "      <td>pineaple</td>\n",
              "    </tr>\n",
              "    <tr>\n",
              "      <th>11</th>\n",
              "      <td>11</td>\n",
              "      <td>foods</td>\n",
              "      <td>fruits</td>\n",
              "      <td>strawberry</td>\n",
              "    </tr>\n",
              "    <tr>\n",
              "      <th>12</th>\n",
              "      <td>12</td>\n",
              "      <td>foods</td>\n",
              "      <td>fruits</td>\n",
              "      <td>grape</td>\n",
              "    </tr>\n",
              "    <tr>\n",
              "      <th>13</th>\n",
              "      <td>13</td>\n",
              "      <td>foods</td>\n",
              "      <td>vegetables</td>\n",
              "      <td>tomato</td>\n",
              "    </tr>\n",
              "    <tr>\n",
              "      <th>14</th>\n",
              "      <td>14</td>\n",
              "      <td>foods</td>\n",
              "      <td>vegetables</td>\n",
              "      <td>carrot</td>\n",
              "    </tr>\n",
              "    <tr>\n",
              "      <th>15</th>\n",
              "      <td>15</td>\n",
              "      <td>foods</td>\n",
              "      <td>vegetables</td>\n",
              "      <td>beet</td>\n",
              "    </tr>\n",
              "    <tr>\n",
              "      <th>16</th>\n",
              "      <td>16</td>\n",
              "      <td>foods</td>\n",
              "      <td>vegetables</td>\n",
              "      <td>potato</td>\n",
              "    </tr>\n",
              "    <tr>\n",
              "      <th>17</th>\n",
              "      <td>17</td>\n",
              "      <td>foods</td>\n",
              "      <td>vegetables</td>\n",
              "      <td>onion</td>\n",
              "    </tr>\n",
              "    <tr>\n",
              "      <th>18</th>\n",
              "      <td>18</td>\n",
              "      <td>foods</td>\n",
              "      <td>vegetables</td>\n",
              "      <td>garlic</td>\n",
              "    </tr>\n",
              "    <tr>\n",
              "      <th>19</th>\n",
              "      <td>19</td>\n",
              "      <td>foods</td>\n",
              "      <td>vegetables</td>\n",
              "      <td>ginger</td>\n",
              "    </tr>\n",
              "    <tr>\n",
              "      <th>20</th>\n",
              "      <td>20</td>\n",
              "      <td>foods</td>\n",
              "      <td>vegetables</td>\n",
              "      <td>basil</td>\n",
              "    </tr>\n",
              "    <tr>\n",
              "      <th>21</th>\n",
              "      <td>21</td>\n",
              "      <td>foods</td>\n",
              "      <td>vegetables</td>\n",
              "      <td>oregano</td>\n",
              "    </tr>\n",
              "    <tr>\n",
              "      <th>22</th>\n",
              "      <td>22</td>\n",
              "      <td>foods</td>\n",
              "      <td>vegetables</td>\n",
              "      <td>avocado</td>\n",
              "    </tr>\n",
              "    <tr>\n",
              "      <th>23</th>\n",
              "      <td>23</td>\n",
              "      <td>foods</td>\n",
              "      <td>dairy</td>\n",
              "      <td>milk</td>\n",
              "    </tr>\n",
              "    <tr>\n",
              "      <th>24</th>\n",
              "      <td>24</td>\n",
              "      <td>foods</td>\n",
              "      <td>dairy</td>\n",
              "      <td>cream</td>\n",
              "    </tr>\n",
              "    <tr>\n",
              "      <th>25</th>\n",
              "      <td>25</td>\n",
              "      <td>foods</td>\n",
              "      <td>dairy</td>\n",
              "      <td>cheese</td>\n",
              "    </tr>\n",
              "    <tr>\n",
              "      <th>26</th>\n",
              "      <td>26</td>\n",
              "      <td>foods</td>\n",
              "      <td>dairy</td>\n",
              "      <td>butter</td>\n",
              "    </tr>\n",
              "    <tr>\n",
              "      <th>27</th>\n",
              "      <td>27</td>\n",
              "      <td>beverages</td>\n",
              "      <td>juice</td>\n",
              "      <td>orange_juice</td>\n",
              "    </tr>\n",
              "    <tr>\n",
              "      <th>28</th>\n",
              "      <td>28</td>\n",
              "      <td>beverages</td>\n",
              "      <td>juice</td>\n",
              "      <td>grape_juice</td>\n",
              "    </tr>\n",
              "    <tr>\n",
              "      <th>29</th>\n",
              "      <td>29</td>\n",
              "      <td>beverages</td>\n",
              "      <td>juice</td>\n",
              "      <td>raspberry_juice</td>\n",
              "    </tr>\n",
              "    <tr>\n",
              "      <th>30</th>\n",
              "      <td>30</td>\n",
              "      <td>beverages</td>\n",
              "      <td>soda</td>\n",
              "      <td>coke</td>\n",
              "    </tr>\n",
              "    <tr>\n",
              "      <th>31</th>\n",
              "      <td>31</td>\n",
              "      <td>beverages</td>\n",
              "      <td>soda</td>\n",
              "      <td>pepsi</td>\n",
              "    </tr>\n",
              "    <tr>\n",
              "      <th>32</th>\n",
              "      <td>32</td>\n",
              "      <td>beverages</td>\n",
              "      <td>soda</td>\n",
              "      <td>sprite</td>\n",
              "    </tr>\n",
              "    <tr>\n",
              "      <th>33</th>\n",
              "      <td>33</td>\n",
              "      <td>beverages</td>\n",
              "      <td>soda</td>\n",
              "      <td>fanta</td>\n",
              "    </tr>\n",
              "    <tr>\n",
              "      <th>34</th>\n",
              "      <td>34</td>\n",
              "      <td>beverages</td>\n",
              "      <td>soda</td>\n",
              "      <td>tonic</td>\n",
              "    </tr>\n",
              "    <tr>\n",
              "      <th>35</th>\n",
              "      <td>35</td>\n",
              "      <td>beverages</td>\n",
              "      <td>alcohol</td>\n",
              "      <td>beer</td>\n",
              "    </tr>\n",
              "    <tr>\n",
              "      <th>36</th>\n",
              "      <td>36</td>\n",
              "      <td>beverages</td>\n",
              "      <td>alcohol</td>\n",
              "      <td>red_wine</td>\n",
              "    </tr>\n",
              "    <tr>\n",
              "      <th>37</th>\n",
              "      <td>37</td>\n",
              "      <td>beverages</td>\n",
              "      <td>alcohol</td>\n",
              "      <td>white_wine</td>\n",
              "    </tr>\n",
              "    <tr>\n",
              "      <th>38</th>\n",
              "      <td>38</td>\n",
              "      <td>beverages</td>\n",
              "      <td>alcohol</td>\n",
              "      <td>whiskey</td>\n",
              "    </tr>\n",
              "    <tr>\n",
              "      <th>39</th>\n",
              "      <td>39</td>\n",
              "      <td>beverages</td>\n",
              "      <td>alcohol</td>\n",
              "      <td>bourbon</td>\n",
              "    </tr>\n",
              "    <tr>\n",
              "      <th>40</th>\n",
              "      <td>40</td>\n",
              "      <td>beverages</td>\n",
              "      <td>alcohol</td>\n",
              "      <td>vodka</td>\n",
              "    </tr>\n",
              "    <tr>\n",
              "      <th>41</th>\n",
              "      <td>41</td>\n",
              "      <td>beverages</td>\n",
              "      <td>alcohol</td>\n",
              "      <td>gin</td>\n",
              "    </tr>\n",
              "    <tr>\n",
              "      <th>42</th>\n",
              "      <td>42</td>\n",
              "      <td>household</td>\n",
              "      <td>cleaning</td>\n",
              "      <td>soap</td>\n",
              "    </tr>\n",
              "    <tr>\n",
              "      <th>43</th>\n",
              "      <td>43</td>\n",
              "      <td>household</td>\n",
              "      <td>cleaning</td>\n",
              "      <td>shampoo</td>\n",
              "    </tr>\n",
              "    <tr>\n",
              "      <th>44</th>\n",
              "      <td>44</td>\n",
              "      <td>household</td>\n",
              "      <td>cleaning</td>\n",
              "      <td>detergent</td>\n",
              "    </tr>\n",
              "    <tr>\n",
              "      <th>45</th>\n",
              "      <td>45</td>\n",
              "      <td>household</td>\n",
              "      <td>misc</td>\n",
              "      <td>toilet_paper</td>\n",
              "    </tr>\n",
              "  </tbody>\n",
              "</table>\n",
              "</div>\n",
              "      <button class=\"colab-df-convert\" onclick=\"convertToInteractive('df-4b5d0f8f-6b7b-4b59-b039-2cfb2818e069')\"\n",
              "              title=\"Convert this dataframe to an interactive table.\"\n",
              "              style=\"display:none;\">\n",
              "\n",
              "  <svg xmlns=\"http://www.w3.org/2000/svg\" height=\"24px\"viewBox=\"0 0 24 24\"\n",
              "       width=\"24px\">\n",
              "    <path d=\"M0 0h24v24H0V0z\" fill=\"none\"/>\n",
              "    <path d=\"M18.56 5.44l.94 2.06.94-2.06 2.06-.94-2.06-.94-.94-2.06-.94 2.06-2.06.94zm-11 1L8.5 8.5l.94-2.06 2.06-.94-2.06-.94L8.5 2.5l-.94 2.06-2.06.94zm10 10l.94 2.06.94-2.06 2.06-.94-2.06-.94-.94-2.06-.94 2.06-2.06.94z\"/><path d=\"M17.41 7.96l-1.37-1.37c-.4-.4-.92-.59-1.43-.59-.52 0-1.04.2-1.43.59L10.3 9.45l-7.72 7.72c-.78.78-.78 2.05 0 2.83L4 21.41c.39.39.9.59 1.41.59.51 0 1.02-.2 1.41-.59l7.78-7.78 2.81-2.81c.8-.78.8-2.07 0-2.86zM5.41 20L4 18.59l7.72-7.72 1.47 1.35L5.41 20z\"/>\n",
              "  </svg>\n",
              "      </button>\n",
              "\n",
              "\n",
              "\n",
              "    <div id=\"df-4a83591b-221f-409b-802e-f80c90ef9485\">\n",
              "      <button class=\"colab-df-quickchart\" onclick=\"quickchart('df-4a83591b-221f-409b-802e-f80c90ef9485')\"\n",
              "              title=\"Suggest charts.\"\n",
              "              style=\"display:none;\">\n",
              "\n",
              "<svg xmlns=\"http://www.w3.org/2000/svg\" height=\"24px\"viewBox=\"0 0 24 24\"\n",
              "     width=\"24px\">\n",
              "    <g>\n",
              "        <path d=\"M19 3H5c-1.1 0-2 .9-2 2v14c0 1.1.9 2 2 2h14c1.1 0 2-.9 2-2V5c0-1.1-.9-2-2-2zM9 17H7v-7h2v7zm4 0h-2V7h2v10zm4 0h-2v-4h2v4z\"/>\n",
              "    </g>\n",
              "</svg>\n",
              "      </button>\n",
              "    </div>\n",
              "\n",
              "<style>\n",
              "  .colab-df-quickchart {\n",
              "    background-color: #E8F0FE;\n",
              "    border: none;\n",
              "    border-radius: 50%;\n",
              "    cursor: pointer;\n",
              "    display: none;\n",
              "    fill: #1967D2;\n",
              "    height: 32px;\n",
              "    padding: 0 0 0 0;\n",
              "    width: 32px;\n",
              "  }\n",
              "\n",
              "  .colab-df-quickchart:hover {\n",
              "    background-color: #E2EBFA;\n",
              "    box-shadow: 0px 1px 2px rgba(60, 64, 67, 0.3), 0px 1px 3px 1px rgba(60, 64, 67, 0.15);\n",
              "    fill: #174EA6;\n",
              "  }\n",
              "\n",
              "  [theme=dark] .colab-df-quickchart {\n",
              "    background-color: #3B4455;\n",
              "    fill: #D2E3FC;\n",
              "  }\n",
              "\n",
              "  [theme=dark] .colab-df-quickchart:hover {\n",
              "    background-color: #434B5C;\n",
              "    box-shadow: 0px 1px 3px 1px rgba(0, 0, 0, 0.15);\n",
              "    filter: drop-shadow(0px 1px 2px rgba(0, 0, 0, 0.3));\n",
              "    fill: #FFFFFF;\n",
              "  }\n",
              "</style>\n",
              "\n",
              "    <script>\n",
              "      async function quickchart(key) {\n",
              "        const containerElement = document.querySelector('#' + key);\n",
              "        const charts = await google.colab.kernel.invokeFunction(\n",
              "            'suggestCharts', [key], {});\n",
              "      }\n",
              "    </script>\n",
              "\n",
              "      <script>\n",
              "\n",
              "function displayQuickchartButton(domScope) {\n",
              "  let quickchartButtonEl =\n",
              "    domScope.querySelector('#df-4a83591b-221f-409b-802e-f80c90ef9485 button.colab-df-quickchart');\n",
              "  quickchartButtonEl.style.display =\n",
              "    google.colab.kernel.accessAllowed ? 'block' : 'none';\n",
              "}\n",
              "\n",
              "        displayQuickchartButton(document);\n",
              "      </script>\n",
              "      <style>\n",
              "    .colab-df-container {\n",
              "      display:flex;\n",
              "      flex-wrap:wrap;\n",
              "      gap: 12px;\n",
              "    }\n",
              "\n",
              "    .colab-df-convert {\n",
              "      background-color: #E8F0FE;\n",
              "      border: none;\n",
              "      border-radius: 50%;\n",
              "      cursor: pointer;\n",
              "      display: none;\n",
              "      fill: #1967D2;\n",
              "      height: 32px;\n",
              "      padding: 0 0 0 0;\n",
              "      width: 32px;\n",
              "    }\n",
              "\n",
              "    .colab-df-convert:hover {\n",
              "      background-color: #E2EBFA;\n",
              "      box-shadow: 0px 1px 2px rgba(60, 64, 67, 0.3), 0px 1px 3px 1px rgba(60, 64, 67, 0.15);\n",
              "      fill: #174EA6;\n",
              "    }\n",
              "\n",
              "    [theme=dark] .colab-df-convert {\n",
              "      background-color: #3B4455;\n",
              "      fill: #D2E3FC;\n",
              "    }\n",
              "\n",
              "    [theme=dark] .colab-df-convert:hover {\n",
              "      background-color: #434B5C;\n",
              "      box-shadow: 0px 1px 3px 1px rgba(0, 0, 0, 0.15);\n",
              "      filter: drop-shadow(0px 1px 2px rgba(0, 0, 0, 0.3));\n",
              "      fill: #FFFFFF;\n",
              "    }\n",
              "  </style>\n",
              "\n",
              "      <script>\n",
              "        const buttonEl =\n",
              "          document.querySelector('#df-4b5d0f8f-6b7b-4b59-b039-2cfb2818e069 button.colab-df-convert');\n",
              "        buttonEl.style.display =\n",
              "          google.colab.kernel.accessAllowed ? 'block' : 'none';\n",
              "\n",
              "        async function convertToInteractive(key) {\n",
              "          const element = document.querySelector('#df-4b5d0f8f-6b7b-4b59-b039-2cfb2818e069');\n",
              "          const dataTable =\n",
              "            await google.colab.kernel.invokeFunction('convertToInteractive',\n",
              "                                                     [key], {});\n",
              "          if (!dataTable) return;\n",
              "\n",
              "          const docLinkHtml = 'Like what you see? Visit the ' +\n",
              "            '<a target=\"_blank\" href=https://colab.research.google.com/notebooks/data_table.ipynb>data table notebook</a>'\n",
              "            + ' to learn more about interactive tables.';\n",
              "          element.innerHTML = '';\n",
              "          dataTable['output_type'] = 'display_data';\n",
              "          await google.colab.output.renderOutput(dataTable, element);\n",
              "          const docLink = document.createElement('div');\n",
              "          docLink.innerHTML = docLinkHtml;\n",
              "          element.appendChild(docLink);\n",
              "        }\n",
              "      </script>\n",
              "    </div>\n",
              "  </div>\n"
            ]
          },
          "metadata": {},
          "execution_count": 8
        }
      ]
    },
    {
      "cell_type": "markdown",
      "source": [
        "### Create macro properties of ratings\n",
        "\n",
        "Here we create some mock users, which bought a certain amount of produts (5, 10, or 20) and gave them some randon ratings"
      ],
      "metadata": {
        "id": "4tqPm0qwzYCL"
      }
    },
    {
      "cell_type": "code",
      "source": [
        "n_products_macro = [5] * 5 + [10] * 5 + [20] * 5\n",
        "n_persons = len(n_products_macro)\n",
        "np.random.seed(42)\n",
        "means = np.random.uniform(2, 4, size=n_persons)\n",
        "stds = np.random.uniform(0.5, 1.5, size=n_persons)\n",
        "\n",
        "dfp_persons_macro = pd.DataFrame(\n",
        "    columns=[\"n_products\", \"means\", \"stds\"],\n",
        "    data=np.array([n_products_macro, means, stds]).T\n",
        ")\n",
        "\n",
        "dfp_persons_macro[\"n_products\"] = dfp_persons_macro[\"n_products\"].astype(int)\n",
        "dfp_persons_macro = dfp_persons_macro.reset_index(names=[\"id_person\"])"
      ],
      "metadata": {
        "id": "TwJRC0ZzsjFE"
      },
      "execution_count": 9,
      "outputs": []
    },
    {
      "cell_type": "markdown",
      "source": [
        "### Create ratings for all persons"
      ],
      "metadata": {
        "id": "glTSb4vp8bNm"
      }
    },
    {
      "cell_type": "code",
      "source": [
        "def create_person(dfp_products, n_products, mean=3, std=1):\n",
        "  \"\"\"select n_products and return random ratings between 0 and 5 for them\"\"\"\n",
        "  #np.random.choice(range(len(dfp_products)), n_products, replace=False)\n",
        "  dfp_person = dfp_products.sample(n=n_products, replace=False)\n",
        "  dfp_person[\"rating\"] = np.random.normal(loc=mean, scale=std, size=n_products)\n",
        "  dfp_person[\"rating\"] = dfp_person[\"rating\"].clip(lower=0., upper=5.)\n",
        "  return dfp_person"
      ],
      "metadata": {
        "id": "K4v4U-ORt58k"
      },
      "execution_count": 10,
      "outputs": []
    },
    {
      "cell_type": "code",
      "source": [
        "np.random.seed(42)\n",
        "dfp_ratings = None  # p stands for \"pandas\"\n",
        "for i, row in dfp_persons_macro.iterrows():\n",
        "    dfp = create_person(\n",
        "        dfp_products,\n",
        "        int(row[\"n_products\"]),\n",
        "        row[\"means\"],\n",
        "        row[\"stds\"],\n",
        "    )\n",
        "    dfp[\"id_person\"] = int(row[\"id_person\"])\n",
        "    dfp_ratings = pd.concat([dfp_ratings, dfp])\n",
        "\n",
        "dfp_ratings = dfp_ratings[[\n",
        "    \"id_person\",\n",
        "    \"id_product\",\n",
        "    \"category\",\n",
        "    \"subcategory\",\n",
        "    \"name\",\n",
        "    \"rating\",\n",
        "]]"
      ],
      "metadata": {
        "id": "Sf1httvrui9s"
      },
      "execution_count": 11,
      "outputs": []
    },
    {
      "cell_type": "code",
      "source": [
        "dfp_ratings"
      ],
      "metadata": {
        "colab": {
          "base_uri": "https://localhost:8080/",
          "height": 424
        },
        "id": "ueSi1y9Y9et_",
        "outputId": "ed3f228b-ec6a-4fc7-bfbe-90b5d37c0ebd"
      },
      "execution_count": 12,
      "outputs": [
        {
          "output_type": "execute_result",
          "data": {
            "text/plain": [
              "    id_person  id_product   category subcategory        name    rating\n",
              "39          0          39  beverages     alcohol     bourbon  2.338864\n",
              "25          0          25      foods       dairy      cheese  3.396565\n",
              "26          0          26      foods       dairy      butter  2.947974\n",
              "44          0          44  household    cleaning   detergent  2.314736\n",
              "35          0          35  beverages     alcohol        beer  2.050947\n",
              "..        ...         ...        ...         ...         ...       ...\n",
              "11         14          11      foods      fruits  strawberry  2.247143\n",
              "12         14          12      foods      fruits       grape  2.450827\n",
              "7          14           7      foods      fruits      orange  2.610381\n",
              "43         14          43  household    cleaning     shampoo  2.715456\n",
              "34         14          34  beverages        soda       tonic  2.737401\n",
              "\n",
              "[175 rows x 6 columns]"
            ],
            "text/html": [
              "\n",
              "\n",
              "  <div id=\"df-295cef6a-a43e-4f74-a0c8-5e3bc94c7ddb\">\n",
              "    <div class=\"colab-df-container\">\n",
              "      <div>\n",
              "<style scoped>\n",
              "    .dataframe tbody tr th:only-of-type {\n",
              "        vertical-align: middle;\n",
              "    }\n",
              "\n",
              "    .dataframe tbody tr th {\n",
              "        vertical-align: top;\n",
              "    }\n",
              "\n",
              "    .dataframe thead th {\n",
              "        text-align: right;\n",
              "    }\n",
              "</style>\n",
              "<table border=\"1\" class=\"dataframe\">\n",
              "  <thead>\n",
              "    <tr style=\"text-align: right;\">\n",
              "      <th></th>\n",
              "      <th>id_person</th>\n",
              "      <th>id_product</th>\n",
              "      <th>category</th>\n",
              "      <th>subcategory</th>\n",
              "      <th>name</th>\n",
              "      <th>rating</th>\n",
              "    </tr>\n",
              "  </thead>\n",
              "  <tbody>\n",
              "    <tr>\n",
              "      <th>39</th>\n",
              "      <td>0</td>\n",
              "      <td>39</td>\n",
              "      <td>beverages</td>\n",
              "      <td>alcohol</td>\n",
              "      <td>bourbon</td>\n",
              "      <td>2.338864</td>\n",
              "    </tr>\n",
              "    <tr>\n",
              "      <th>25</th>\n",
              "      <td>0</td>\n",
              "      <td>25</td>\n",
              "      <td>foods</td>\n",
              "      <td>dairy</td>\n",
              "      <td>cheese</td>\n",
              "      <td>3.396565</td>\n",
              "    </tr>\n",
              "    <tr>\n",
              "      <th>26</th>\n",
              "      <td>0</td>\n",
              "      <td>26</td>\n",
              "      <td>foods</td>\n",
              "      <td>dairy</td>\n",
              "      <td>butter</td>\n",
              "      <td>2.947974</td>\n",
              "    </tr>\n",
              "    <tr>\n",
              "      <th>44</th>\n",
              "      <td>0</td>\n",
              "      <td>44</td>\n",
              "      <td>household</td>\n",
              "      <td>cleaning</td>\n",
              "      <td>detergent</td>\n",
              "      <td>2.314736</td>\n",
              "    </tr>\n",
              "    <tr>\n",
              "      <th>35</th>\n",
              "      <td>0</td>\n",
              "      <td>35</td>\n",
              "      <td>beverages</td>\n",
              "      <td>alcohol</td>\n",
              "      <td>beer</td>\n",
              "      <td>2.050947</td>\n",
              "    </tr>\n",
              "    <tr>\n",
              "      <th>...</th>\n",
              "      <td>...</td>\n",
              "      <td>...</td>\n",
              "      <td>...</td>\n",
              "      <td>...</td>\n",
              "      <td>...</td>\n",
              "      <td>...</td>\n",
              "    </tr>\n",
              "    <tr>\n",
              "      <th>11</th>\n",
              "      <td>14</td>\n",
              "      <td>11</td>\n",
              "      <td>foods</td>\n",
              "      <td>fruits</td>\n",
              "      <td>strawberry</td>\n",
              "      <td>2.247143</td>\n",
              "    </tr>\n",
              "    <tr>\n",
              "      <th>12</th>\n",
              "      <td>14</td>\n",
              "      <td>12</td>\n",
              "      <td>foods</td>\n",
              "      <td>fruits</td>\n",
              "      <td>grape</td>\n",
              "      <td>2.450827</td>\n",
              "    </tr>\n",
              "    <tr>\n",
              "      <th>7</th>\n",
              "      <td>14</td>\n",
              "      <td>7</td>\n",
              "      <td>foods</td>\n",
              "      <td>fruits</td>\n",
              "      <td>orange</td>\n",
              "      <td>2.610381</td>\n",
              "    </tr>\n",
              "    <tr>\n",
              "      <th>43</th>\n",
              "      <td>14</td>\n",
              "      <td>43</td>\n",
              "      <td>household</td>\n",
              "      <td>cleaning</td>\n",
              "      <td>shampoo</td>\n",
              "      <td>2.715456</td>\n",
              "    </tr>\n",
              "    <tr>\n",
              "      <th>34</th>\n",
              "      <td>14</td>\n",
              "      <td>34</td>\n",
              "      <td>beverages</td>\n",
              "      <td>soda</td>\n",
              "      <td>tonic</td>\n",
              "      <td>2.737401</td>\n",
              "    </tr>\n",
              "  </tbody>\n",
              "</table>\n",
              "<p>175 rows × 6 columns</p>\n",
              "</div>\n",
              "      <button class=\"colab-df-convert\" onclick=\"convertToInteractive('df-295cef6a-a43e-4f74-a0c8-5e3bc94c7ddb')\"\n",
              "              title=\"Convert this dataframe to an interactive table.\"\n",
              "              style=\"display:none;\">\n",
              "\n",
              "  <svg xmlns=\"http://www.w3.org/2000/svg\" height=\"24px\"viewBox=\"0 0 24 24\"\n",
              "       width=\"24px\">\n",
              "    <path d=\"M0 0h24v24H0V0z\" fill=\"none\"/>\n",
              "    <path d=\"M18.56 5.44l.94 2.06.94-2.06 2.06-.94-2.06-.94-.94-2.06-.94 2.06-2.06.94zm-11 1L8.5 8.5l.94-2.06 2.06-.94-2.06-.94L8.5 2.5l-.94 2.06-2.06.94zm10 10l.94 2.06.94-2.06 2.06-.94-2.06-.94-.94-2.06-.94 2.06-2.06.94z\"/><path d=\"M17.41 7.96l-1.37-1.37c-.4-.4-.92-.59-1.43-.59-.52 0-1.04.2-1.43.59L10.3 9.45l-7.72 7.72c-.78.78-.78 2.05 0 2.83L4 21.41c.39.39.9.59 1.41.59.51 0 1.02-.2 1.41-.59l7.78-7.78 2.81-2.81c.8-.78.8-2.07 0-2.86zM5.41 20L4 18.59l7.72-7.72 1.47 1.35L5.41 20z\"/>\n",
              "  </svg>\n",
              "      </button>\n",
              "\n",
              "\n",
              "\n",
              "    <div id=\"df-e2d3f711-e9e6-4e67-90fd-578be010b523\">\n",
              "      <button class=\"colab-df-quickchart\" onclick=\"quickchart('df-e2d3f711-e9e6-4e67-90fd-578be010b523')\"\n",
              "              title=\"Suggest charts.\"\n",
              "              style=\"display:none;\">\n",
              "\n",
              "<svg xmlns=\"http://www.w3.org/2000/svg\" height=\"24px\"viewBox=\"0 0 24 24\"\n",
              "     width=\"24px\">\n",
              "    <g>\n",
              "        <path d=\"M19 3H5c-1.1 0-2 .9-2 2v14c0 1.1.9 2 2 2h14c1.1 0 2-.9 2-2V5c0-1.1-.9-2-2-2zM9 17H7v-7h2v7zm4 0h-2V7h2v10zm4 0h-2v-4h2v4z\"/>\n",
              "    </g>\n",
              "</svg>\n",
              "      </button>\n",
              "    </div>\n",
              "\n",
              "<style>\n",
              "  .colab-df-quickchart {\n",
              "    background-color: #E8F0FE;\n",
              "    border: none;\n",
              "    border-radius: 50%;\n",
              "    cursor: pointer;\n",
              "    display: none;\n",
              "    fill: #1967D2;\n",
              "    height: 32px;\n",
              "    padding: 0 0 0 0;\n",
              "    width: 32px;\n",
              "  }\n",
              "\n",
              "  .colab-df-quickchart:hover {\n",
              "    background-color: #E2EBFA;\n",
              "    box-shadow: 0px 1px 2px rgba(60, 64, 67, 0.3), 0px 1px 3px 1px rgba(60, 64, 67, 0.15);\n",
              "    fill: #174EA6;\n",
              "  }\n",
              "\n",
              "  [theme=dark] .colab-df-quickchart {\n",
              "    background-color: #3B4455;\n",
              "    fill: #D2E3FC;\n",
              "  }\n",
              "\n",
              "  [theme=dark] .colab-df-quickchart:hover {\n",
              "    background-color: #434B5C;\n",
              "    box-shadow: 0px 1px 3px 1px rgba(0, 0, 0, 0.15);\n",
              "    filter: drop-shadow(0px 1px 2px rgba(0, 0, 0, 0.3));\n",
              "    fill: #FFFFFF;\n",
              "  }\n",
              "</style>\n",
              "\n",
              "    <script>\n",
              "      async function quickchart(key) {\n",
              "        const containerElement = document.querySelector('#' + key);\n",
              "        const charts = await google.colab.kernel.invokeFunction(\n",
              "            'suggestCharts', [key], {});\n",
              "      }\n",
              "    </script>\n",
              "\n",
              "      <script>\n",
              "\n",
              "function displayQuickchartButton(domScope) {\n",
              "  let quickchartButtonEl =\n",
              "    domScope.querySelector('#df-e2d3f711-e9e6-4e67-90fd-578be010b523 button.colab-df-quickchart');\n",
              "  quickchartButtonEl.style.display =\n",
              "    google.colab.kernel.accessAllowed ? 'block' : 'none';\n",
              "}\n",
              "\n",
              "        displayQuickchartButton(document);\n",
              "      </script>\n",
              "      <style>\n",
              "    .colab-df-container {\n",
              "      display:flex;\n",
              "      flex-wrap:wrap;\n",
              "      gap: 12px;\n",
              "    }\n",
              "\n",
              "    .colab-df-convert {\n",
              "      background-color: #E8F0FE;\n",
              "      border: none;\n",
              "      border-radius: 50%;\n",
              "      cursor: pointer;\n",
              "      display: none;\n",
              "      fill: #1967D2;\n",
              "      height: 32px;\n",
              "      padding: 0 0 0 0;\n",
              "      width: 32px;\n",
              "    }\n",
              "\n",
              "    .colab-df-convert:hover {\n",
              "      background-color: #E2EBFA;\n",
              "      box-shadow: 0px 1px 2px rgba(60, 64, 67, 0.3), 0px 1px 3px 1px rgba(60, 64, 67, 0.15);\n",
              "      fill: #174EA6;\n",
              "    }\n",
              "\n",
              "    [theme=dark] .colab-df-convert {\n",
              "      background-color: #3B4455;\n",
              "      fill: #D2E3FC;\n",
              "    }\n",
              "\n",
              "    [theme=dark] .colab-df-convert:hover {\n",
              "      background-color: #434B5C;\n",
              "      box-shadow: 0px 1px 3px 1px rgba(0, 0, 0, 0.15);\n",
              "      filter: drop-shadow(0px 1px 2px rgba(0, 0, 0, 0.3));\n",
              "      fill: #FFFFFF;\n",
              "    }\n",
              "  </style>\n",
              "\n",
              "      <script>\n",
              "        const buttonEl =\n",
              "          document.querySelector('#df-295cef6a-a43e-4f74-a0c8-5e3bc94c7ddb button.colab-df-convert');\n",
              "        buttonEl.style.display =\n",
              "          google.colab.kernel.accessAllowed ? 'block' : 'none';\n",
              "\n",
              "        async function convertToInteractive(key) {\n",
              "          const element = document.querySelector('#df-295cef6a-a43e-4f74-a0c8-5e3bc94c7ddb');\n",
              "          const dataTable =\n",
              "            await google.colab.kernel.invokeFunction('convertToInteractive',\n",
              "                                                     [key], {});\n",
              "          if (!dataTable) return;\n",
              "\n",
              "          const docLinkHtml = 'Like what you see? Visit the ' +\n",
              "            '<a target=\"_blank\" href=https://colab.research.google.com/notebooks/data_table.ipynb>data table notebook</a>'\n",
              "            + ' to learn more about interactive tables.';\n",
              "          element.innerHTML = '';\n",
              "          dataTable['output_type'] = 'display_data';\n",
              "          await google.colab.output.renderOutput(dataTable, element);\n",
              "          const docLink = document.createElement('div');\n",
              "          docLink.innerHTML = docLinkHtml;\n",
              "          element.appendChild(docLink);\n",
              "        }\n",
              "      </script>\n",
              "    </div>\n",
              "  </div>\n"
            ]
          },
          "metadata": {},
          "execution_count": 12
        }
      ]
    },
    {
      "cell_type": "code",
      "source": [
        "dfp_ratings.pivot_table(\"rating\", \"id_person\", \"id_product\")"
      ],
      "metadata": {
        "colab": {
          "base_uri": "https://localhost:8080/",
          "height": 644
        },
        "id": "TKuRXqsm-Nkn",
        "outputId": "f5b866f0-a707-4d17-eb77-58feb161e221"
      },
      "execution_count": 13,
      "outputs": [
        {
          "output_type": "execute_result",
          "data": {
            "text/plain": [
              "id_product        0         1         2         3         4         5   \\\n",
              "id_person                                                                \n",
              "0                NaN       NaN       NaN       NaN       NaN       NaN   \n",
              "1                NaN       NaN       NaN       NaN  3.652747       NaN   \n",
              "2                NaN       NaN       NaN       NaN       NaN       NaN   \n",
              "3                NaN       NaN       NaN  3.190439       NaN       NaN   \n",
              "4                NaN       NaN       NaN       NaN       NaN       NaN   \n",
              "5                NaN       NaN       NaN       NaN  2.416242  3.398469   \n",
              "6                NaN       NaN       NaN  2.131471  2.264719       NaN   \n",
              "7                NaN       NaN       NaN       NaN       NaN       NaN   \n",
              "8                NaN       NaN       NaN       NaN       NaN  4.312837   \n",
              "9           3.169080  5.000000       NaN       NaN  1.903973  3.802955   \n",
              "10               NaN  1.139215       NaN       NaN  0.321803       NaN   \n",
              "11               NaN       NaN       NaN  3.192834       NaN       NaN   \n",
              "12          4.753851       NaN  3.716452       NaN       NaN  2.751957   \n",
              "13               NaN       NaN       NaN  1.267179  0.760848  0.635310   \n",
              "14          1.954921       NaN       NaN       NaN  2.033367       NaN   \n",
              "\n",
              "id_product        6         7         8         9   ...        36        37  \\\n",
              "id_person                                           ...                       \n",
              "0                NaN       NaN       NaN       NaN  ...       NaN       NaN   \n",
              "1                NaN       NaN       NaN       NaN  ...       NaN  4.686003   \n",
              "2                NaN  3.727470       NaN       NaN  ...       NaN       NaN   \n",
              "3                NaN       NaN       NaN       NaN  ...       NaN       NaN   \n",
              "4                NaN       NaN       NaN  1.836194  ...       NaN       NaN   \n",
              "5                NaN       NaN       NaN  5.000000  ...       NaN       NaN   \n",
              "6           2.228834       NaN       NaN       NaN  ...       NaN  2.120840   \n",
              "7           2.794791       NaN       NaN       NaN  ...       NaN       NaN   \n",
              "8           1.388247       NaN  4.351434       NaN  ...       NaN       NaN   \n",
              "9                NaN  3.502261       NaN       NaN  ...       NaN       NaN   \n",
              "10               NaN       NaN       NaN       NaN  ...  1.625578  0.798261   \n",
              "11          4.172331  3.152937       NaN       NaN  ...  4.833777  5.000000   \n",
              "12          2.366370  3.128635  2.344754       NaN  ...       NaN       NaN   \n",
              "13               NaN       NaN  2.671561  4.594363  ...       NaN       NaN   \n",
              "14          2.369551  2.610381       NaN  1.810304  ...       NaN       NaN   \n",
              "\n",
              "id_product        38        39        40        41        42        43  \\\n",
              "id_person                                                                \n",
              "0                NaN  2.338864       NaN       NaN       NaN       NaN   \n",
              "1           3.771338       NaN       NaN       NaN       NaN       NaN   \n",
              "2                NaN       NaN       NaN       NaN       NaN       NaN   \n",
              "3                NaN       NaN       NaN       NaN  3.912395       NaN   \n",
              "4                NaN       NaN       NaN  2.406177       NaN       NaN   \n",
              "5                NaN  2.273597       NaN       NaN       NaN       NaN   \n",
              "6                NaN       NaN  1.379109       NaN       NaN       NaN   \n",
              "7                NaN       NaN       NaN  3.913730       NaN       NaN   \n",
              "8                NaN  1.715185  3.177607       NaN       NaN       NaN   \n",
              "9                NaN       NaN       NaN       NaN       NaN       NaN   \n",
              "10          1.269286  1.645106       NaN  4.261629  1.139361       NaN   \n",
              "11          4.299759  3.657463       NaN       NaN       NaN       NaN   \n",
              "12               NaN       NaN       NaN       NaN       NaN  2.488044   \n",
              "13          4.223829       NaN  2.199380  0.118919  2.863349  2.412413   \n",
              "14               NaN  3.454916  1.442951       NaN       NaN  2.715456   \n",
              "\n",
              "id_product        44        45  \n",
              "id_person                       \n",
              "0           2.314736       NaN  \n",
              "1                NaN       NaN  \n",
              "2                NaN       NaN  \n",
              "3                NaN       NaN  \n",
              "4                NaN       NaN  \n",
              "5                NaN       NaN  \n",
              "6                NaN  2.748117  \n",
              "7           4.207557  3.351134  \n",
              "8                NaN       NaN  \n",
              "9                NaN       NaN  \n",
              "10               NaN       NaN  \n",
              "11          3.765626  4.020754  \n",
              "12          4.185128  3.789135  \n",
              "13               NaN  5.000000  \n",
              "14               NaN       NaN  \n",
              "\n",
              "[15 rows x 46 columns]"
            ],
            "text/html": [
              "\n",
              "\n",
              "  <div id=\"df-89f9ae99-6b61-4654-afa2-5913bb3994b0\">\n",
              "    <div class=\"colab-df-container\">\n",
              "      <div>\n",
              "<style scoped>\n",
              "    .dataframe tbody tr th:only-of-type {\n",
              "        vertical-align: middle;\n",
              "    }\n",
              "\n",
              "    .dataframe tbody tr th {\n",
              "        vertical-align: top;\n",
              "    }\n",
              "\n",
              "    .dataframe thead th {\n",
              "        text-align: right;\n",
              "    }\n",
              "</style>\n",
              "<table border=\"1\" class=\"dataframe\">\n",
              "  <thead>\n",
              "    <tr style=\"text-align: right;\">\n",
              "      <th>id_product</th>\n",
              "      <th>0</th>\n",
              "      <th>1</th>\n",
              "      <th>2</th>\n",
              "      <th>3</th>\n",
              "      <th>4</th>\n",
              "      <th>5</th>\n",
              "      <th>6</th>\n",
              "      <th>7</th>\n",
              "      <th>8</th>\n",
              "      <th>9</th>\n",
              "      <th>...</th>\n",
              "      <th>36</th>\n",
              "      <th>37</th>\n",
              "      <th>38</th>\n",
              "      <th>39</th>\n",
              "      <th>40</th>\n",
              "      <th>41</th>\n",
              "      <th>42</th>\n",
              "      <th>43</th>\n",
              "      <th>44</th>\n",
              "      <th>45</th>\n",
              "    </tr>\n",
              "    <tr>\n",
              "      <th>id_person</th>\n",
              "      <th></th>\n",
              "      <th></th>\n",
              "      <th></th>\n",
              "      <th></th>\n",
              "      <th></th>\n",
              "      <th></th>\n",
              "      <th></th>\n",
              "      <th></th>\n",
              "      <th></th>\n",
              "      <th></th>\n",
              "      <th></th>\n",
              "      <th></th>\n",
              "      <th></th>\n",
              "      <th></th>\n",
              "      <th></th>\n",
              "      <th></th>\n",
              "      <th></th>\n",
              "      <th></th>\n",
              "      <th></th>\n",
              "      <th></th>\n",
              "      <th></th>\n",
              "    </tr>\n",
              "  </thead>\n",
              "  <tbody>\n",
              "    <tr>\n",
              "      <th>0</th>\n",
              "      <td>NaN</td>\n",
              "      <td>NaN</td>\n",
              "      <td>NaN</td>\n",
              "      <td>NaN</td>\n",
              "      <td>NaN</td>\n",
              "      <td>NaN</td>\n",
              "      <td>NaN</td>\n",
              "      <td>NaN</td>\n",
              "      <td>NaN</td>\n",
              "      <td>NaN</td>\n",
              "      <td>...</td>\n",
              "      <td>NaN</td>\n",
              "      <td>NaN</td>\n",
              "      <td>NaN</td>\n",
              "      <td>2.338864</td>\n",
              "      <td>NaN</td>\n",
              "      <td>NaN</td>\n",
              "      <td>NaN</td>\n",
              "      <td>NaN</td>\n",
              "      <td>2.314736</td>\n",
              "      <td>NaN</td>\n",
              "    </tr>\n",
              "    <tr>\n",
              "      <th>1</th>\n",
              "      <td>NaN</td>\n",
              "      <td>NaN</td>\n",
              "      <td>NaN</td>\n",
              "      <td>NaN</td>\n",
              "      <td>3.652747</td>\n",
              "      <td>NaN</td>\n",
              "      <td>NaN</td>\n",
              "      <td>NaN</td>\n",
              "      <td>NaN</td>\n",
              "      <td>NaN</td>\n",
              "      <td>...</td>\n",
              "      <td>NaN</td>\n",
              "      <td>4.686003</td>\n",
              "      <td>3.771338</td>\n",
              "      <td>NaN</td>\n",
              "      <td>NaN</td>\n",
              "      <td>NaN</td>\n",
              "      <td>NaN</td>\n",
              "      <td>NaN</td>\n",
              "      <td>NaN</td>\n",
              "      <td>NaN</td>\n",
              "    </tr>\n",
              "    <tr>\n",
              "      <th>2</th>\n",
              "      <td>NaN</td>\n",
              "      <td>NaN</td>\n",
              "      <td>NaN</td>\n",
              "      <td>NaN</td>\n",
              "      <td>NaN</td>\n",
              "      <td>NaN</td>\n",
              "      <td>NaN</td>\n",
              "      <td>3.727470</td>\n",
              "      <td>NaN</td>\n",
              "      <td>NaN</td>\n",
              "      <td>...</td>\n",
              "      <td>NaN</td>\n",
              "      <td>NaN</td>\n",
              "      <td>NaN</td>\n",
              "      <td>NaN</td>\n",
              "      <td>NaN</td>\n",
              "      <td>NaN</td>\n",
              "      <td>NaN</td>\n",
              "      <td>NaN</td>\n",
              "      <td>NaN</td>\n",
              "      <td>NaN</td>\n",
              "    </tr>\n",
              "    <tr>\n",
              "      <th>3</th>\n",
              "      <td>NaN</td>\n",
              "      <td>NaN</td>\n",
              "      <td>NaN</td>\n",
              "      <td>3.190439</td>\n",
              "      <td>NaN</td>\n",
              "      <td>NaN</td>\n",
              "      <td>NaN</td>\n",
              "      <td>NaN</td>\n",
              "      <td>NaN</td>\n",
              "      <td>NaN</td>\n",
              "      <td>...</td>\n",
              "      <td>NaN</td>\n",
              "      <td>NaN</td>\n",
              "      <td>NaN</td>\n",
              "      <td>NaN</td>\n",
              "      <td>NaN</td>\n",
              "      <td>NaN</td>\n",
              "      <td>3.912395</td>\n",
              "      <td>NaN</td>\n",
              "      <td>NaN</td>\n",
              "      <td>NaN</td>\n",
              "    </tr>\n",
              "    <tr>\n",
              "      <th>4</th>\n",
              "      <td>NaN</td>\n",
              "      <td>NaN</td>\n",
              "      <td>NaN</td>\n",
              "      <td>NaN</td>\n",
              "      <td>NaN</td>\n",
              "      <td>NaN</td>\n",
              "      <td>NaN</td>\n",
              "      <td>NaN</td>\n",
              "      <td>NaN</td>\n",
              "      <td>1.836194</td>\n",
              "      <td>...</td>\n",
              "      <td>NaN</td>\n",
              "      <td>NaN</td>\n",
              "      <td>NaN</td>\n",
              "      <td>NaN</td>\n",
              "      <td>NaN</td>\n",
              "      <td>2.406177</td>\n",
              "      <td>NaN</td>\n",
              "      <td>NaN</td>\n",
              "      <td>NaN</td>\n",
              "      <td>NaN</td>\n",
              "    </tr>\n",
              "    <tr>\n",
              "      <th>5</th>\n",
              "      <td>NaN</td>\n",
              "      <td>NaN</td>\n",
              "      <td>NaN</td>\n",
              "      <td>NaN</td>\n",
              "      <td>2.416242</td>\n",
              "      <td>3.398469</td>\n",
              "      <td>NaN</td>\n",
              "      <td>NaN</td>\n",
              "      <td>NaN</td>\n",
              "      <td>5.000000</td>\n",
              "      <td>...</td>\n",
              "      <td>NaN</td>\n",
              "      <td>NaN</td>\n",
              "      <td>NaN</td>\n",
              "      <td>2.273597</td>\n",
              "      <td>NaN</td>\n",
              "      <td>NaN</td>\n",
              "      <td>NaN</td>\n",
              "      <td>NaN</td>\n",
              "      <td>NaN</td>\n",
              "      <td>NaN</td>\n",
              "    </tr>\n",
              "    <tr>\n",
              "      <th>6</th>\n",
              "      <td>NaN</td>\n",
              "      <td>NaN</td>\n",
              "      <td>NaN</td>\n",
              "      <td>2.131471</td>\n",
              "      <td>2.264719</td>\n",
              "      <td>NaN</td>\n",
              "      <td>2.228834</td>\n",
              "      <td>NaN</td>\n",
              "      <td>NaN</td>\n",
              "      <td>NaN</td>\n",
              "      <td>...</td>\n",
              "      <td>NaN</td>\n",
              "      <td>2.120840</td>\n",
              "      <td>NaN</td>\n",
              "      <td>NaN</td>\n",
              "      <td>1.379109</td>\n",
              "      <td>NaN</td>\n",
              "      <td>NaN</td>\n",
              "      <td>NaN</td>\n",
              "      <td>NaN</td>\n",
              "      <td>2.748117</td>\n",
              "    </tr>\n",
              "    <tr>\n",
              "      <th>7</th>\n",
              "      <td>NaN</td>\n",
              "      <td>NaN</td>\n",
              "      <td>NaN</td>\n",
              "      <td>NaN</td>\n",
              "      <td>NaN</td>\n",
              "      <td>NaN</td>\n",
              "      <td>2.794791</td>\n",
              "      <td>NaN</td>\n",
              "      <td>NaN</td>\n",
              "      <td>NaN</td>\n",
              "      <td>...</td>\n",
              "      <td>NaN</td>\n",
              "      <td>NaN</td>\n",
              "      <td>NaN</td>\n",
              "      <td>NaN</td>\n",
              "      <td>NaN</td>\n",
              "      <td>3.913730</td>\n",
              "      <td>NaN</td>\n",
              "      <td>NaN</td>\n",
              "      <td>4.207557</td>\n",
              "      <td>3.351134</td>\n",
              "    </tr>\n",
              "    <tr>\n",
              "      <th>8</th>\n",
              "      <td>NaN</td>\n",
              "      <td>NaN</td>\n",
              "      <td>NaN</td>\n",
              "      <td>NaN</td>\n",
              "      <td>NaN</td>\n",
              "      <td>4.312837</td>\n",
              "      <td>1.388247</td>\n",
              "      <td>NaN</td>\n",
              "      <td>4.351434</td>\n",
              "      <td>NaN</td>\n",
              "      <td>...</td>\n",
              "      <td>NaN</td>\n",
              "      <td>NaN</td>\n",
              "      <td>NaN</td>\n",
              "      <td>1.715185</td>\n",
              "      <td>3.177607</td>\n",
              "      <td>NaN</td>\n",
              "      <td>NaN</td>\n",
              "      <td>NaN</td>\n",
              "      <td>NaN</td>\n",
              "      <td>NaN</td>\n",
              "    </tr>\n",
              "    <tr>\n",
              "      <th>9</th>\n",
              "      <td>3.169080</td>\n",
              "      <td>5.000000</td>\n",
              "      <td>NaN</td>\n",
              "      <td>NaN</td>\n",
              "      <td>1.903973</td>\n",
              "      <td>3.802955</td>\n",
              "      <td>NaN</td>\n",
              "      <td>3.502261</td>\n",
              "      <td>NaN</td>\n",
              "      <td>NaN</td>\n",
              "      <td>...</td>\n",
              "      <td>NaN</td>\n",
              "      <td>NaN</td>\n",
              "      <td>NaN</td>\n",
              "      <td>NaN</td>\n",
              "      <td>NaN</td>\n",
              "      <td>NaN</td>\n",
              "      <td>NaN</td>\n",
              "      <td>NaN</td>\n",
              "      <td>NaN</td>\n",
              "      <td>NaN</td>\n",
              "    </tr>\n",
              "    <tr>\n",
              "      <th>10</th>\n",
              "      <td>NaN</td>\n",
              "      <td>1.139215</td>\n",
              "      <td>NaN</td>\n",
              "      <td>NaN</td>\n",
              "      <td>0.321803</td>\n",
              "      <td>NaN</td>\n",
              "      <td>NaN</td>\n",
              "      <td>NaN</td>\n",
              "      <td>NaN</td>\n",
              "      <td>NaN</td>\n",
              "      <td>...</td>\n",
              "      <td>1.625578</td>\n",
              "      <td>0.798261</td>\n",
              "      <td>1.269286</td>\n",
              "      <td>1.645106</td>\n",
              "      <td>NaN</td>\n",
              "      <td>4.261629</td>\n",
              "      <td>1.139361</td>\n",
              "      <td>NaN</td>\n",
              "      <td>NaN</td>\n",
              "      <td>NaN</td>\n",
              "    </tr>\n",
              "    <tr>\n",
              "      <th>11</th>\n",
              "      <td>NaN</td>\n",
              "      <td>NaN</td>\n",
              "      <td>NaN</td>\n",
              "      <td>3.192834</td>\n",
              "      <td>NaN</td>\n",
              "      <td>NaN</td>\n",
              "      <td>4.172331</td>\n",
              "      <td>3.152937</td>\n",
              "      <td>NaN</td>\n",
              "      <td>NaN</td>\n",
              "      <td>...</td>\n",
              "      <td>4.833777</td>\n",
              "      <td>5.000000</td>\n",
              "      <td>4.299759</td>\n",
              "      <td>3.657463</td>\n",
              "      <td>NaN</td>\n",
              "      <td>NaN</td>\n",
              "      <td>NaN</td>\n",
              "      <td>NaN</td>\n",
              "      <td>3.765626</td>\n",
              "      <td>4.020754</td>\n",
              "    </tr>\n",
              "    <tr>\n",
              "      <th>12</th>\n",
              "      <td>4.753851</td>\n",
              "      <td>NaN</td>\n",
              "      <td>3.716452</td>\n",
              "      <td>NaN</td>\n",
              "      <td>NaN</td>\n",
              "      <td>2.751957</td>\n",
              "      <td>2.366370</td>\n",
              "      <td>3.128635</td>\n",
              "      <td>2.344754</td>\n",
              "      <td>NaN</td>\n",
              "      <td>...</td>\n",
              "      <td>NaN</td>\n",
              "      <td>NaN</td>\n",
              "      <td>NaN</td>\n",
              "      <td>NaN</td>\n",
              "      <td>NaN</td>\n",
              "      <td>NaN</td>\n",
              "      <td>NaN</td>\n",
              "      <td>2.488044</td>\n",
              "      <td>4.185128</td>\n",
              "      <td>3.789135</td>\n",
              "    </tr>\n",
              "    <tr>\n",
              "      <th>13</th>\n",
              "      <td>NaN</td>\n",
              "      <td>NaN</td>\n",
              "      <td>NaN</td>\n",
              "      <td>1.267179</td>\n",
              "      <td>0.760848</td>\n",
              "      <td>0.635310</td>\n",
              "      <td>NaN</td>\n",
              "      <td>NaN</td>\n",
              "      <td>2.671561</td>\n",
              "      <td>4.594363</td>\n",
              "      <td>...</td>\n",
              "      <td>NaN</td>\n",
              "      <td>NaN</td>\n",
              "      <td>4.223829</td>\n",
              "      <td>NaN</td>\n",
              "      <td>2.199380</td>\n",
              "      <td>0.118919</td>\n",
              "      <td>2.863349</td>\n",
              "      <td>2.412413</td>\n",
              "      <td>NaN</td>\n",
              "      <td>5.000000</td>\n",
              "    </tr>\n",
              "    <tr>\n",
              "      <th>14</th>\n",
              "      <td>1.954921</td>\n",
              "      <td>NaN</td>\n",
              "      <td>NaN</td>\n",
              "      <td>NaN</td>\n",
              "      <td>2.033367</td>\n",
              "      <td>NaN</td>\n",
              "      <td>2.369551</td>\n",
              "      <td>2.610381</td>\n",
              "      <td>NaN</td>\n",
              "      <td>1.810304</td>\n",
              "      <td>...</td>\n",
              "      <td>NaN</td>\n",
              "      <td>NaN</td>\n",
              "      <td>NaN</td>\n",
              "      <td>3.454916</td>\n",
              "      <td>1.442951</td>\n",
              "      <td>NaN</td>\n",
              "      <td>NaN</td>\n",
              "      <td>2.715456</td>\n",
              "      <td>NaN</td>\n",
              "      <td>NaN</td>\n",
              "    </tr>\n",
              "  </tbody>\n",
              "</table>\n",
              "<p>15 rows × 46 columns</p>\n",
              "</div>\n",
              "      <button class=\"colab-df-convert\" onclick=\"convertToInteractive('df-89f9ae99-6b61-4654-afa2-5913bb3994b0')\"\n",
              "              title=\"Convert this dataframe to an interactive table.\"\n",
              "              style=\"display:none;\">\n",
              "\n",
              "  <svg xmlns=\"http://www.w3.org/2000/svg\" height=\"24px\"viewBox=\"0 0 24 24\"\n",
              "       width=\"24px\">\n",
              "    <path d=\"M0 0h24v24H0V0z\" fill=\"none\"/>\n",
              "    <path d=\"M18.56 5.44l.94 2.06.94-2.06 2.06-.94-2.06-.94-.94-2.06-.94 2.06-2.06.94zm-11 1L8.5 8.5l.94-2.06 2.06-.94-2.06-.94L8.5 2.5l-.94 2.06-2.06.94zm10 10l.94 2.06.94-2.06 2.06-.94-2.06-.94-.94-2.06-.94 2.06-2.06.94z\"/><path d=\"M17.41 7.96l-1.37-1.37c-.4-.4-.92-.59-1.43-.59-.52 0-1.04.2-1.43.59L10.3 9.45l-7.72 7.72c-.78.78-.78 2.05 0 2.83L4 21.41c.39.39.9.59 1.41.59.51 0 1.02-.2 1.41-.59l7.78-7.78 2.81-2.81c.8-.78.8-2.07 0-2.86zM5.41 20L4 18.59l7.72-7.72 1.47 1.35L5.41 20z\"/>\n",
              "  </svg>\n",
              "      </button>\n",
              "\n",
              "\n",
              "\n",
              "    <div id=\"df-81a7b80d-68e4-4bf0-bb2d-a0cb8c5727a6\">\n",
              "      <button class=\"colab-df-quickchart\" onclick=\"quickchart('df-81a7b80d-68e4-4bf0-bb2d-a0cb8c5727a6')\"\n",
              "              title=\"Suggest charts.\"\n",
              "              style=\"display:none;\">\n",
              "\n",
              "<svg xmlns=\"http://www.w3.org/2000/svg\" height=\"24px\"viewBox=\"0 0 24 24\"\n",
              "     width=\"24px\">\n",
              "    <g>\n",
              "        <path d=\"M19 3H5c-1.1 0-2 .9-2 2v14c0 1.1.9 2 2 2h14c1.1 0 2-.9 2-2V5c0-1.1-.9-2-2-2zM9 17H7v-7h2v7zm4 0h-2V7h2v10zm4 0h-2v-4h2v4z\"/>\n",
              "    </g>\n",
              "</svg>\n",
              "      </button>\n",
              "    </div>\n",
              "\n",
              "<style>\n",
              "  .colab-df-quickchart {\n",
              "    background-color: #E8F0FE;\n",
              "    border: none;\n",
              "    border-radius: 50%;\n",
              "    cursor: pointer;\n",
              "    display: none;\n",
              "    fill: #1967D2;\n",
              "    height: 32px;\n",
              "    padding: 0 0 0 0;\n",
              "    width: 32px;\n",
              "  }\n",
              "\n",
              "  .colab-df-quickchart:hover {\n",
              "    background-color: #E2EBFA;\n",
              "    box-shadow: 0px 1px 2px rgba(60, 64, 67, 0.3), 0px 1px 3px 1px rgba(60, 64, 67, 0.15);\n",
              "    fill: #174EA6;\n",
              "  }\n",
              "\n",
              "  [theme=dark] .colab-df-quickchart {\n",
              "    background-color: #3B4455;\n",
              "    fill: #D2E3FC;\n",
              "  }\n",
              "\n",
              "  [theme=dark] .colab-df-quickchart:hover {\n",
              "    background-color: #434B5C;\n",
              "    box-shadow: 0px 1px 3px 1px rgba(0, 0, 0, 0.15);\n",
              "    filter: drop-shadow(0px 1px 2px rgba(0, 0, 0, 0.3));\n",
              "    fill: #FFFFFF;\n",
              "  }\n",
              "</style>\n",
              "\n",
              "    <script>\n",
              "      async function quickchart(key) {\n",
              "        const containerElement = document.querySelector('#' + key);\n",
              "        const charts = await google.colab.kernel.invokeFunction(\n",
              "            'suggestCharts', [key], {});\n",
              "      }\n",
              "    </script>\n",
              "\n",
              "      <script>\n",
              "\n",
              "function displayQuickchartButton(domScope) {\n",
              "  let quickchartButtonEl =\n",
              "    domScope.querySelector('#df-81a7b80d-68e4-4bf0-bb2d-a0cb8c5727a6 button.colab-df-quickchart');\n",
              "  quickchartButtonEl.style.display =\n",
              "    google.colab.kernel.accessAllowed ? 'block' : 'none';\n",
              "}\n",
              "\n",
              "        displayQuickchartButton(document);\n",
              "      </script>\n",
              "      <style>\n",
              "    .colab-df-container {\n",
              "      display:flex;\n",
              "      flex-wrap:wrap;\n",
              "      gap: 12px;\n",
              "    }\n",
              "\n",
              "    .colab-df-convert {\n",
              "      background-color: #E8F0FE;\n",
              "      border: none;\n",
              "      border-radius: 50%;\n",
              "      cursor: pointer;\n",
              "      display: none;\n",
              "      fill: #1967D2;\n",
              "      height: 32px;\n",
              "      padding: 0 0 0 0;\n",
              "      width: 32px;\n",
              "    }\n",
              "\n",
              "    .colab-df-convert:hover {\n",
              "      background-color: #E2EBFA;\n",
              "      box-shadow: 0px 1px 2px rgba(60, 64, 67, 0.3), 0px 1px 3px 1px rgba(60, 64, 67, 0.15);\n",
              "      fill: #174EA6;\n",
              "    }\n",
              "\n",
              "    [theme=dark] .colab-df-convert {\n",
              "      background-color: #3B4455;\n",
              "      fill: #D2E3FC;\n",
              "    }\n",
              "\n",
              "    [theme=dark] .colab-df-convert:hover {\n",
              "      background-color: #434B5C;\n",
              "      box-shadow: 0px 1px 3px 1px rgba(0, 0, 0, 0.15);\n",
              "      filter: drop-shadow(0px 1px 2px rgba(0, 0, 0, 0.3));\n",
              "      fill: #FFFFFF;\n",
              "    }\n",
              "  </style>\n",
              "\n",
              "      <script>\n",
              "        const buttonEl =\n",
              "          document.querySelector('#df-89f9ae99-6b61-4654-afa2-5913bb3994b0 button.colab-df-convert');\n",
              "        buttonEl.style.display =\n",
              "          google.colab.kernel.accessAllowed ? 'block' : 'none';\n",
              "\n",
              "        async function convertToInteractive(key) {\n",
              "          const element = document.querySelector('#df-89f9ae99-6b61-4654-afa2-5913bb3994b0');\n",
              "          const dataTable =\n",
              "            await google.colab.kernel.invokeFunction('convertToInteractive',\n",
              "                                                     [key], {});\n",
              "          if (!dataTable) return;\n",
              "\n",
              "          const docLinkHtml = 'Like what you see? Visit the ' +\n",
              "            '<a target=\"_blank\" href=https://colab.research.google.com/notebooks/data_table.ipynb>data table notebook</a>'\n",
              "            + ' to learn more about interactive tables.';\n",
              "          element.innerHTML = '';\n",
              "          dataTable['output_type'] = 'display_data';\n",
              "          await google.colab.output.renderOutput(dataTable, element);\n",
              "          const docLink = document.createElement('div');\n",
              "          docLink.innerHTML = docLinkHtml;\n",
              "          element.appendChild(docLink);\n",
              "        }\n",
              "      </script>\n",
              "    </div>\n",
              "  </div>\n"
            ]
          },
          "metadata": {},
          "execution_count": 13
        }
      ]
    },
    {
      "cell_type": "markdown",
      "source": [
        "## Create recommendations\n",
        "\n",
        "Using pySpark's ALS (Alternating Least Squares)"
      ],
      "metadata": {
        "id": "lEwwMQANBZlW"
      }
    },
    {
      "cell_type": "markdown",
      "source": [
        "### Setup"
      ],
      "metadata": {
        "id": "SMwsbdu0dP2V"
      }
    },
    {
      "cell_type": "code",
      "source": [
        "from pyspark.sql import SparkSession\n",
        "spark = SparkSession.builder.getOrCreate()\n",
        "spark"
      ],
      "metadata": {
        "colab": {
          "base_uri": "https://localhost:8080/",
          "height": 219
        },
        "id": "1UExXrRFcYMK",
        "outputId": "4fefb4e9-e1d8-4d04-e508-5ccdcb8758cb"
      },
      "execution_count": 14,
      "outputs": [
        {
          "output_type": "execute_result",
          "data": {
            "text/plain": [
              "<pyspark.sql.session.SparkSession at 0x7d0dcb401c30>"
            ],
            "text/html": [
              "\n",
              "            <div>\n",
              "                <p><b>SparkSession - in-memory</b></p>\n",
              "                \n",
              "        <div>\n",
              "            <p><b>SparkContext</b></p>\n",
              "\n",
              "            <p><a href=\"http://822ffa55fe52:4040\">Spark UI</a></p>\n",
              "\n",
              "            <dl>\n",
              "              <dt>Version</dt>\n",
              "                <dd><code>v3.4.1</code></dd>\n",
              "              <dt>Master</dt>\n",
              "                <dd><code>local[*]</code></dd>\n",
              "              <dt>AppName</dt>\n",
              "                <dd><code>pyspark-shell</code></dd>\n",
              "            </dl>\n",
              "        </div>\n",
              "        \n",
              "            </div>\n",
              "        "
            ]
          },
          "metadata": {},
          "execution_count": 14
        }
      ]
    },
    {
      "cell_type": "code",
      "source": [
        "sc = spark.sparkContext"
      ],
      "metadata": {
        "id": "riuCwqVEcZAU"
      },
      "execution_count": 15,
      "outputs": []
    },
    {
      "cell_type": "markdown",
      "source": [
        "### Create pySpark DataFrames from pandas DataFrames"
      ],
      "metadata": {
        "id": "Z2nQ37h6dTnT"
      }
    },
    {
      "cell_type": "code",
      "source": [
        "df_products = spark.createDataFrame(dfp_products)"
      ],
      "metadata": {
        "id": "lijqgj8URGb5"
      },
      "execution_count": 16,
      "outputs": []
    },
    {
      "cell_type": "code",
      "source": [
        "df_ratings = spark.createDataFrame(dfp_ratings)"
      ],
      "metadata": {
        "id": "ChO3ypDhcgvl"
      },
      "execution_count": 17,
      "outputs": []
    },
    {
      "cell_type": "code",
      "source": [
        "df_ratings.show()"
      ],
      "metadata": {
        "colab": {
          "base_uri": "https://localhost:8080/"
        },
        "id": "vaMhx0yJiaAd",
        "outputId": "10a6b3bd-3d4b-4b23-9cc8-e4b4452ce95b"
      },
      "execution_count": 18,
      "outputs": [
        {
          "output_type": "stream",
          "name": "stdout",
          "text": [
            "+---------+----------+---------+-----------+---------------+------------------+\n",
            "|id_person|id_product| category|subcategory|           name|            rating|\n",
            "+---------+----------+---------+-----------+---------------+------------------+\n",
            "|        0|        39|beverages|    alcohol|        bourbon| 2.338864049475458|\n",
            "|        0|        25|    foods|      dairy|         cheese|3.3965648842127285|\n",
            "|        0|        26|    foods|      dairy|         butter|2.9479741866779903|\n",
            "|        0|        44|household|   cleaning|      detergent|2.3147358449097593|\n",
            "|        0|        35|beverages|    alcohol|           beer|2.0509468608027484|\n",
            "|        1|        38|beverages|    alcohol|        whiskey|3.7713380980527034|\n",
            "|        1|        10|    foods|     fruits|       pineaple|3.2264944296123095|\n",
            "|        1|         4|    foods|     grains|            pea| 3.652746958114404|\n",
            "|        1|        32|beverages|       soda|         sprite| 4.167844657902307|\n",
            "|        1|        37|beverages|    alcohol|     white_wine| 4.686003213964966|\n",
            "|        2|         7|    foods|     fruits|         orange|3.7274700498941327|\n",
            "|        2|        28|beverages|      juice|    grape_juice|3.7862869964898755|\n",
            "|        2|        31|beverages|       soda|          pepsi| 4.869812428290667|\n",
            "|        2|        29|beverages|      juice|raspberry_juice|3.6438872506972495|\n",
            "|        2|        20|    foods| vegetables|          basil| 3.147042456423543|\n",
            "|        3|        28|beverages|      juice|    grape_juice| 3.824632927625249|\n",
            "|        3|        15|    foods| vegetables|           beet|3.5140114231979767|\n",
            "|        3|         3|    foods|     grains|         lentil|3.1904390744163966|\n",
            "|        3|        42|household|   cleaning|           soap|3.9123954350463492|\n",
            "|        3|        20|    foods| vegetables|          basil| 2.125773503326527|\n",
            "+---------+----------+---------+-----------+---------------+------------------+\n",
            "only showing top 20 rows\n",
            "\n"
          ]
        }
      ]
    },
    {
      "cell_type": "markdown",
      "source": [
        "### Prepare for ALS"
      ],
      "metadata": {
        "id": "Xy7L657Cdcnl"
      }
    },
    {
      "cell_type": "code",
      "source": [
        "from pyspark.ml.feature import StringIndexer"
      ],
      "metadata": {
        "id": "G6cUM3fvBN7n"
      },
      "execution_count": 19,
      "outputs": []
    },
    {
      "cell_type": "code",
      "source": [
        "indexer_person = StringIndexer(inputCol=\"id_person\", outputCol=\"person\")\n",
        "indexer_product = StringIndexer(inputCol=\"id_product\", outputCol=\"product\")\n",
        "\n",
        "df_ratings = indexer_person.fit(df_ratings).transform(df_ratings)\n",
        "df_ratings = indexer_product.fit(df_ratings).transform(df_ratings)"
      ],
      "metadata": {
        "id": "QvD6cbiYBTEl"
      },
      "execution_count": 20,
      "outputs": []
    },
    {
      "cell_type": "code",
      "source": [
        "df_ratings.show()"
      ],
      "metadata": {
        "colab": {
          "base_uri": "https://localhost:8080/"
        },
        "id": "qzZfuINij3bq",
        "outputId": "05bc92d4-bd3c-47be-af8a-761b6e84cbae"
      },
      "execution_count": 21,
      "outputs": [
        {
          "output_type": "stream",
          "name": "stdout",
          "text": [
            "+---------+----------+---------+-----------+---------------+------------------+------+-------+\n",
            "|id_person|id_product| category|subcategory|           name|            rating|person|product|\n",
            "+---------+----------+---------+-----------+---------------+------------------+------+-------+\n",
            "|        0|        39|beverages|    alcohol|        bourbon| 2.338864049475458|  10.0|    7.0|\n",
            "|        0|        25|    foods|      dairy|         cheese|3.3965648842127285|  10.0|   16.0|\n",
            "|        0|        26|    foods|      dairy|         butter|2.9479741866779903|  10.0|   37.0|\n",
            "|        0|        44|household|   cleaning|      detergent|2.3147358449097593|  10.0|   22.0|\n",
            "|        0|        35|beverages|    alcohol|           beer|2.0509468608027484|  10.0|   31.0|\n",
            "|        1|        38|beverages|    alcohol|        whiskey|3.7713380980527034|  11.0|   19.0|\n",
            "|        1|        10|    foods|     fruits|       pineaple|3.2264944296123095|  11.0|   14.0|\n",
            "|        1|         4|    foods|     grains|            pea| 3.652746958114404|  11.0|    4.0|\n",
            "|        1|        32|beverages|       soda|         sprite| 4.167844657902307|  11.0|   39.0|\n",
            "|        1|        37|beverages|    alcohol|     white_wine| 4.686003213964966|  11.0|   18.0|\n",
            "|        2|         7|    foods|     fruits|         orange|3.7274700498941327|  12.0|   13.0|\n",
            "|        2|        28|beverages|      juice|    grape_juice|3.7862869964898755|  12.0|    2.0|\n",
            "|        2|        31|beverages|       soda|          pepsi| 4.869812428290667|  12.0|    3.0|\n",
            "|        2|        29|beverages|      juice|raspberry_juice|3.6438872506972495|  12.0|   29.0|\n",
            "|        2|        20|    foods| vegetables|          basil| 3.147042456423543|  12.0|    1.0|\n",
            "|        3|        28|beverages|      juice|    grape_juice| 3.824632927625249|  13.0|    2.0|\n",
            "|        3|        15|    foods| vegetables|           beet|3.5140114231979767|  13.0|    0.0|\n",
            "|        3|         3|    foods|     grains|         lentil|3.1904390744163966|  13.0|   17.0|\n",
            "|        3|        42|household|   cleaning|           soap|3.9123954350463492|  13.0|   32.0|\n",
            "|        3|        20|    foods| vegetables|          basil| 2.125773503326527|  13.0|    1.0|\n",
            "+---------+----------+---------+-----------+---------------+------------------+------+-------+\n",
            "only showing top 20 rows\n",
            "\n"
          ]
        }
      ]
    },
    {
      "cell_type": "markdown",
      "source": [
        "### Get recommendations for all persons"
      ],
      "metadata": {
        "id": "rtrDFCMdsYvV"
      }
    },
    {
      "cell_type": "code",
      "source": [
        "from pyspark.ml.recommendation import ALS\n",
        "#from pyspark.mllib.recommendation import ALS  # old ..."
      ],
      "metadata": {
        "id": "JRfq3RgfoRQh"
      },
      "execution_count": 22,
      "outputs": []
    },
    {
      "cell_type": "code",
      "source": [
        "als = ALS(\n",
        "    userCol=\"person\",\n",
        "    itemCol=\"product\",\n",
        "    ratingCol=\"rating\",\n",
        "    nonnegative=True,\n",
        "    implicitPrefs=False,\n",
        "    coldStartStrategy=\"drop\"\n",
        ")"
      ],
      "metadata": {
        "id": "u_0QdTcLjq9D"
      },
      "execution_count": 23,
      "outputs": []
    },
    {
      "cell_type": "code",
      "source": [
        "model = als.fit(df_ratings)"
      ],
      "metadata": {
        "id": "oqrxQoY1oGxc"
      },
      "execution_count": 24,
      "outputs": []
    },
    {
      "cell_type": "code",
      "source": [
        "n_recommendations = 10"
      ],
      "metadata": {
        "id": "wGlvEkwKpL_L"
      },
      "execution_count": 25,
      "outputs": []
    },
    {
      "cell_type": "code",
      "source": [
        "df_recommendations = model.recommendForAllUsers(n_recommendations)"
      ],
      "metadata": {
        "id": "shSlEoxDo98n"
      },
      "execution_count": 26,
      "outputs": []
    },
    {
      "cell_type": "code",
      "source": [
        "df_recommendations = df_recommendations\\\n",
        "    .withColumn(\"rec_exploded\", sf.explode(\"recommendations\"))\\\n",
        "    .select(\"person\", sf.col(\"rec_exploded.product\"), sf.col(\"rec_exploded.rating\"))"
      ],
      "metadata": {
        "id": "s3wH-U92pQel"
      },
      "execution_count": 27,
      "outputs": []
    },
    {
      "cell_type": "markdown",
      "source": [
        "Add product columns to recommendations"
      ],
      "metadata": {
        "id": "kF8bG9ikN8S1"
      }
    },
    {
      "cell_type": "code",
      "source": [
        "df_recommendations = df_recommendations.join(\n",
        "    df_products.select([\"id_product\", \"category\", \"subcategory\", \"name\"]),\n",
        "    df_recommendations.product == df_products.id_product\n",
        ")"
      ],
      "metadata": {
        "id": "UADtBehWNzPj"
      },
      "execution_count": 28,
      "outputs": []
    },
    {
      "cell_type": "code",
      "source": [
        "df_recommendations = df_recommendations.orderBy([\"person\", \"product\"])\n",
        "df_recommendations.show()"
      ],
      "metadata": {
        "colab": {
          "base_uri": "https://localhost:8080/"
        },
        "id": "G1AFEgxVReRB",
        "outputId": "64f562ab-c079-40bd-d839-8d4b667255fd"
      },
      "execution_count": 29,
      "outputs": [
        {
          "output_type": "stream",
          "name": "stdout",
          "text": [
            "+------+-------+---------+----------+---------+-----------+------------+\n",
            "|person|product|   rating|id_product| category|subcategory|        name|\n",
            "+------+-------+---------+----------+---------+-----------+------------+\n",
            "|     0|      3|1.9739631|         3|    foods|     grains|      lentil|\n",
            "|     0|      6| 2.243396|         6|    foods|     fruits|      banana|\n",
            "|     0|      7|1.5373775|         7|    foods|     fruits|      orange|\n",
            "|     0|      8|1.4160379|         8|    foods|     fruits|       apple|\n",
            "|     0|     21|3.7449574|        21|    foods| vegetables|     oregano|\n",
            "|     0|     26|1.8163828|        26|    foods|      dairy|      butter|\n",
            "|     0|     27|3.4987667|        27|beverages|      juice|orange_juice|\n",
            "|     0|     31|1.4738616|        31|beverages|       soda|       pepsi|\n",
            "|     0|     38|  1.56429|        38|beverages|    alcohol|     whiskey|\n",
            "|     0|     41|1.6062989|        41|beverages|    alcohol|         gin|\n",
            "|     1|      0|4.3600116|         0|    foods|     grains|        rice|\n",
            "|     1|     18|4.6625566|        18|    foods| vegetables|      garlic|\n",
            "|     1|     19| 4.263089|        19|    foods| vegetables|      ginger|\n",
            "|     1|     23|  4.51717|        23|    foods|      dairy|        milk|\n",
            "|     1|     26|4.3632126|        26|    foods|      dairy|      butter|\n",
            "|     1|     30| 4.827024|        30|beverages|       soda|        coke|\n",
            "|     1|     35| 4.617053|        35|beverages|    alcohol|        beer|\n",
            "|     1|     38|  4.82628|        38|beverages|    alcohol|     whiskey|\n",
            "|     1|     41| 4.694219|        41|beverages|    alcohol|         gin|\n",
            "|     1|     43|4.7198715|        43|household|   cleaning|     shampoo|\n",
            "+------+-------+---------+----------+---------+-----------+------------+\n",
            "only showing top 20 rows\n",
            "\n"
          ]
        }
      ]
    },
    {
      "cell_type": "markdown",
      "source": [
        "## Obtain recommendation metrics"
      ],
      "metadata": {
        "id": "A-69MVODsgeI"
      }
    },
    {
      "cell_type": "markdown",
      "source": [
        "### Setup"
      ],
      "metadata": {
        "id": "O8sEHsHVg6Lt"
      }
    },
    {
      "cell_type": "markdown",
      "source": [
        "Import recmetrics\n",
        "\n",
        "https://github.com/statisticianinstilettos/recmetrics\n",
        "\n",
        "https://pypi.org/project/recmetrics/\n",
        "\n",
        "https://towardsdatascience.com/evaluation-metrics-for-recommender-systems-df56c6611093"
      ],
      "metadata": {
        "id": "fHScD0vOs6wd"
      }
    },
    {
      "cell_type": "code",
      "source": [
        "!pip install recmetrics"
      ],
      "metadata": {
        "colab": {
          "base_uri": "https://localhost:8080/"
        },
        "id": "urBlsS3pqK7h",
        "outputId": "745f8e4f-d1b3-45f1-a87a-9a1de06fd8f8"
      },
      "execution_count": 30,
      "outputs": [
        {
          "output_type": "stream",
          "name": "stdout",
          "text": [
            "Collecting recmetrics\n",
            "  Downloading recmetrics-0.1.5-py3-none-any.whl (9.3 kB)\n",
            "Collecting funcsigs<2.0.0,>=1.0.2 (from recmetrics)\n",
            "  Downloading funcsigs-1.0.2-py2.py3-none-any.whl (17 kB)\n",
            "Requirement already satisfied: ipython<8.0.0,>=7.18.1 in /usr/local/lib/python3.10/dist-packages (from recmetrics) (7.34.0)\n",
            "Collecting jupyter<2.0.0,>=1.0.0 (from recmetrics)\n",
            "  Downloading jupyter-1.0.0-py2.py3-none-any.whl (2.7 kB)\n",
            "Requirement already satisfied: matplotlib<4.0.0,>=3.3.2 in /usr/local/lib/python3.10/dist-packages (from recmetrics) (3.7.1)\n",
            "Requirement already satisfied: pandas<2.0.0,>=1.1.3 in /usr/local/lib/python3.10/dist-packages (from recmetrics) (1.5.3)\n",
            "Collecting plotly<5.0.0,>=4.11.0 (from recmetrics)\n",
            "  Downloading plotly-4.14.3-py2.py3-none-any.whl (13.2 MB)\n",
            "\u001b[2K     \u001b[90m━━━━━━━━━━━━━━━━━━━━━━━━━━━━━━━━━━━━━━━━\u001b[0m \u001b[32m13.2/13.2 MB\u001b[0m \u001b[31m23.3 MB/s\u001b[0m eta \u001b[36m0:00:00\u001b[0m\n",
            "\u001b[?25hCollecting pytest-cov<3.0.0,>=2.10.1 (from recmetrics)\n",
            "  Downloading pytest_cov-2.12.1-py2.py3-none-any.whl (20 kB)\n",
            "Requirement already satisfied: scikit-learn<2.0.0,>=1.0.2 in /usr/local/lib/python3.10/dist-packages (from recmetrics) (1.2.2)\n",
            "Requirement already satisfied: scipy<2.0.0,>=1.5.2 in /usr/local/lib/python3.10/dist-packages (from recmetrics) (1.10.1)\n",
            "Collecting seaborn<0.12.0,>=0.11.0 (from recmetrics)\n",
            "  Downloading seaborn-0.11.2-py3-none-any.whl (292 kB)\n",
            "\u001b[2K     \u001b[90m━━━━━━━━━━━━━━━━━━━━━━━━━━━━━━━━━━━━━━\u001b[0m \u001b[32m292.8/292.8 kB\u001b[0m \u001b[31m23.2 MB/s\u001b[0m eta \u001b[36m0:00:00\u001b[0m\n",
            "\u001b[?25hCollecting twine<5.0.0,>=4.0.0 (from recmetrics)\n",
            "  Downloading twine-4.0.2-py3-none-any.whl (36 kB)\n",
            "Requirement already satisfied: setuptools>=18.5 in /usr/local/lib/python3.10/dist-packages (from ipython<8.0.0,>=7.18.1->recmetrics) (67.7.2)\n",
            "Collecting jedi>=0.16 (from ipython<8.0.0,>=7.18.1->recmetrics)\n",
            "  Downloading jedi-0.18.2-py2.py3-none-any.whl (1.6 MB)\n",
            "\u001b[2K     \u001b[90m━━━━━━━━━━━━━━━━━━━━━━━━━━━━━━━━━━━━━━━━\u001b[0m \u001b[32m1.6/1.6 MB\u001b[0m \u001b[31m31.5 MB/s\u001b[0m eta \u001b[36m0:00:00\u001b[0m\n",
            "\u001b[?25hRequirement already satisfied: decorator in /usr/local/lib/python3.10/dist-packages (from ipython<8.0.0,>=7.18.1->recmetrics) (4.4.2)\n",
            "Requirement already satisfied: pickleshare in /usr/local/lib/python3.10/dist-packages (from ipython<8.0.0,>=7.18.1->recmetrics) (0.7.5)\n",
            "Requirement already satisfied: traitlets>=4.2 in /usr/local/lib/python3.10/dist-packages (from ipython<8.0.0,>=7.18.1->recmetrics) (5.7.1)\n",
            "Requirement already satisfied: prompt-toolkit!=3.0.0,!=3.0.1,<3.1.0,>=2.0.0 in /usr/local/lib/python3.10/dist-packages (from ipython<8.0.0,>=7.18.1->recmetrics) (3.0.39)\n",
            "Requirement already satisfied: pygments in /usr/local/lib/python3.10/dist-packages (from ipython<8.0.0,>=7.18.1->recmetrics) (2.14.0)\n",
            "Requirement already satisfied: backcall in /usr/local/lib/python3.10/dist-packages (from ipython<8.0.0,>=7.18.1->recmetrics) (0.2.0)\n",
            "Requirement already satisfied: matplotlib-inline in /usr/local/lib/python3.10/dist-packages (from ipython<8.0.0,>=7.18.1->recmetrics) (0.1.6)\n",
            "Requirement already satisfied: pexpect>4.3 in /usr/local/lib/python3.10/dist-packages (from ipython<8.0.0,>=7.18.1->recmetrics) (4.8.0)\n",
            "Requirement already satisfied: notebook in /usr/local/lib/python3.10/dist-packages (from jupyter<2.0.0,>=1.0.0->recmetrics) (6.4.8)\n",
            "Collecting qtconsole (from jupyter<2.0.0,>=1.0.0->recmetrics)\n",
            "  Downloading qtconsole-5.4.3-py3-none-any.whl (121 kB)\n",
            "\u001b[2K     \u001b[90m━━━━━━━━━━━━━━━━━━━━━━━━━━━━━━━━━━━━━━\u001b[0m \u001b[32m121.9/121.9 kB\u001b[0m \u001b[31m10.3 MB/s\u001b[0m eta \u001b[36m0:00:00\u001b[0m\n",
            "\u001b[?25hRequirement already satisfied: jupyter-console in /usr/local/lib/python3.10/dist-packages (from jupyter<2.0.0,>=1.0.0->recmetrics) (6.1.0)\n",
            "Requirement already satisfied: nbconvert in /usr/local/lib/python3.10/dist-packages (from jupyter<2.0.0,>=1.0.0->recmetrics) (6.5.4)\n",
            "Requirement already satisfied: ipykernel in /usr/local/lib/python3.10/dist-packages (from jupyter<2.0.0,>=1.0.0->recmetrics) (5.5.6)\n",
            "Requirement already satisfied: ipywidgets in /usr/local/lib/python3.10/dist-packages (from jupyter<2.0.0,>=1.0.0->recmetrics) (7.7.1)\n",
            "Requirement already satisfied: contourpy>=1.0.1 in /usr/local/lib/python3.10/dist-packages (from matplotlib<4.0.0,>=3.3.2->recmetrics) (1.1.0)\n",
            "Requirement already satisfied: cycler>=0.10 in /usr/local/lib/python3.10/dist-packages (from matplotlib<4.0.0,>=3.3.2->recmetrics) (0.11.0)\n",
            "Requirement already satisfied: fonttools>=4.22.0 in /usr/local/lib/python3.10/dist-packages (from matplotlib<4.0.0,>=3.3.2->recmetrics) (4.41.0)\n",
            "Requirement already satisfied: kiwisolver>=1.0.1 in /usr/local/lib/python3.10/dist-packages (from matplotlib<4.0.0,>=3.3.2->recmetrics) (1.4.4)\n",
            "Requirement already satisfied: numpy>=1.20 in /usr/local/lib/python3.10/dist-packages (from matplotlib<4.0.0,>=3.3.2->recmetrics) (1.22.4)\n",
            "Requirement already satisfied: packaging>=20.0 in /usr/local/lib/python3.10/dist-packages (from matplotlib<4.0.0,>=3.3.2->recmetrics) (23.1)\n",
            "Requirement already satisfied: pillow>=6.2.0 in /usr/local/lib/python3.10/dist-packages (from matplotlib<4.0.0,>=3.3.2->recmetrics) (8.4.0)\n",
            "Requirement already satisfied: pyparsing>=2.3.1 in /usr/local/lib/python3.10/dist-packages (from matplotlib<4.0.0,>=3.3.2->recmetrics) (3.1.0)\n",
            "Requirement already satisfied: python-dateutil>=2.7 in /usr/local/lib/python3.10/dist-packages (from matplotlib<4.0.0,>=3.3.2->recmetrics) (2.8.2)\n",
            "Requirement already satisfied: pytz>=2020.1 in /usr/local/lib/python3.10/dist-packages (from pandas<2.0.0,>=1.1.3->recmetrics) (2022.7.1)\n",
            "Collecting retrying>=1.3.3 (from plotly<5.0.0,>=4.11.0->recmetrics)\n",
            "  Downloading retrying-1.3.4-py3-none-any.whl (11 kB)\n",
            "Requirement already satisfied: six in /usr/local/lib/python3.10/dist-packages (from plotly<5.0.0,>=4.11.0->recmetrics) (1.16.0)\n",
            "Requirement already satisfied: pytest>=4.6 in /usr/local/lib/python3.10/dist-packages (from pytest-cov<3.0.0,>=2.10.1->recmetrics) (7.2.2)\n",
            "Collecting coverage>=5.2.1 (from pytest-cov<3.0.0,>=2.10.1->recmetrics)\n",
            "  Downloading coverage-7.2.7-cp310-cp310-manylinux_2_5_x86_64.manylinux1_x86_64.manylinux_2_17_x86_64.manylinux2014_x86_64.whl (228 kB)\n",
            "\u001b[2K     \u001b[90m━━━━━━━━━━━━━━━━━━━━━━━━━━━━━━━━━━━━━━\u001b[0m \u001b[32m228.7/228.7 kB\u001b[0m \u001b[31m14.6 MB/s\u001b[0m eta \u001b[36m0:00:00\u001b[0m\n",
            "\u001b[?25hRequirement already satisfied: toml in /usr/local/lib/python3.10/dist-packages (from pytest-cov<3.0.0,>=2.10.1->recmetrics) (0.10.2)\n",
            "Requirement already satisfied: joblib>=1.1.1 in /usr/local/lib/python3.10/dist-packages (from scikit-learn<2.0.0,>=1.0.2->recmetrics) (1.3.1)\n",
            "Requirement already satisfied: threadpoolctl>=2.0.0 in /usr/local/lib/python3.10/dist-packages (from scikit-learn<2.0.0,>=1.0.2->recmetrics) (3.2.0)\n",
            "Collecting pkginfo>=1.8.1 (from twine<5.0.0,>=4.0.0->recmetrics)\n",
            "  Downloading pkginfo-1.9.6-py3-none-any.whl (30 kB)\n",
            "Collecting readme-renderer>=35.0 (from twine<5.0.0,>=4.0.0->recmetrics)\n",
            "  Downloading readme_renderer-40.0-py3-none-any.whl (14 kB)\n",
            "Requirement already satisfied: requests>=2.20 in /usr/local/lib/python3.10/dist-packages (from twine<5.0.0,>=4.0.0->recmetrics) (2.27.1)\n",
            "Collecting requests-toolbelt!=0.9.0,>=0.8.0 (from twine<5.0.0,>=4.0.0->recmetrics)\n",
            "  Downloading requests_toolbelt-1.0.0-py2.py3-none-any.whl (54 kB)\n",
            "\u001b[2K     \u001b[90m━━━━━━━━━━━━━━━━━━━━━━━━━━━━━━━━━━━━━━━━\u001b[0m \u001b[32m54.5/54.5 kB\u001b[0m \u001b[31m5.2 MB/s\u001b[0m eta \u001b[36m0:00:00\u001b[0m\n",
            "\u001b[?25hRequirement already satisfied: urllib3>=1.26.0 in /usr/local/lib/python3.10/dist-packages (from twine<5.0.0,>=4.0.0->recmetrics) (1.26.16)\n",
            "Requirement already satisfied: importlib-metadata>=3.6 in /usr/lib/python3/dist-packages (from twine<5.0.0,>=4.0.0->recmetrics) (4.6.4)\n",
            "Requirement already satisfied: keyring>=15.1 in /usr/lib/python3/dist-packages (from twine<5.0.0,>=4.0.0->recmetrics) (23.5.0)\n",
            "Collecting rfc3986>=1.4.0 (from twine<5.0.0,>=4.0.0->recmetrics)\n",
            "  Downloading rfc3986-2.0.0-py2.py3-none-any.whl (31 kB)\n",
            "Requirement already satisfied: rich>=12.0.0 in /usr/local/lib/python3.10/dist-packages (from twine<5.0.0,>=4.0.0->recmetrics) (13.4.2)\n",
            "Requirement already satisfied: parso<0.9.0,>=0.8.0 in /usr/local/lib/python3.10/dist-packages (from jedi>=0.16->ipython<8.0.0,>=7.18.1->recmetrics) (0.8.3)\n",
            "Requirement already satisfied: ptyprocess>=0.5 in /usr/local/lib/python3.10/dist-packages (from pexpect>4.3->ipython<8.0.0,>=7.18.1->recmetrics) (0.7.0)\n",
            "Requirement already satisfied: wcwidth in /usr/local/lib/python3.10/dist-packages (from prompt-toolkit!=3.0.0,!=3.0.1,<3.1.0,>=2.0.0->ipython<8.0.0,>=7.18.1->recmetrics) (0.2.6)\n",
            "Requirement already satisfied: attrs>=19.2.0 in /usr/local/lib/python3.10/dist-packages (from pytest>=4.6->pytest-cov<3.0.0,>=2.10.1->recmetrics) (23.1.0)\n",
            "Requirement already satisfied: iniconfig in /usr/local/lib/python3.10/dist-packages (from pytest>=4.6->pytest-cov<3.0.0,>=2.10.1->recmetrics) (2.0.0)\n",
            "Requirement already satisfied: pluggy<2.0,>=0.12 in /usr/local/lib/python3.10/dist-packages (from pytest>=4.6->pytest-cov<3.0.0,>=2.10.1->recmetrics) (1.2.0)\n",
            "Requirement already satisfied: exceptiongroup>=1.0.0rc8 in /usr/local/lib/python3.10/dist-packages (from pytest>=4.6->pytest-cov<3.0.0,>=2.10.1->recmetrics) (1.1.2)\n",
            "Requirement already satisfied: tomli>=1.0.0 in /usr/local/lib/python3.10/dist-packages (from pytest>=4.6->pytest-cov<3.0.0,>=2.10.1->recmetrics) (2.0.1)\n",
            "Requirement already satisfied: bleach>=2.1.0 in /usr/local/lib/python3.10/dist-packages (from readme-renderer>=35.0->twine<5.0.0,>=4.0.0->recmetrics) (6.0.0)\n",
            "Requirement already satisfied: docutils>=0.13.1 in /usr/local/lib/python3.10/dist-packages (from readme-renderer>=35.0->twine<5.0.0,>=4.0.0->recmetrics) (0.16)\n",
            "Requirement already satisfied: certifi>=2017.4.17 in /usr/local/lib/python3.10/dist-packages (from requests>=2.20->twine<5.0.0,>=4.0.0->recmetrics) (2023.5.7)\n",
            "Requirement already satisfied: charset-normalizer~=2.0.0 in /usr/local/lib/python3.10/dist-packages (from requests>=2.20->twine<5.0.0,>=4.0.0->recmetrics) (2.0.12)\n",
            "Requirement already satisfied: idna<4,>=2.5 in /usr/local/lib/python3.10/dist-packages (from requests>=2.20->twine<5.0.0,>=4.0.0->recmetrics) (3.4)\n",
            "Requirement already satisfied: markdown-it-py>=2.2.0 in /usr/local/lib/python3.10/dist-packages (from rich>=12.0.0->twine<5.0.0,>=4.0.0->recmetrics) (3.0.0)\n",
            "Requirement already satisfied: ipython-genutils in /usr/local/lib/python3.10/dist-packages (from ipykernel->jupyter<2.0.0,>=1.0.0->recmetrics) (0.2.0)\n",
            "Requirement already satisfied: jupyter-client in /usr/local/lib/python3.10/dist-packages (from ipykernel->jupyter<2.0.0,>=1.0.0->recmetrics) (6.1.12)\n",
            "Requirement already satisfied: tornado>=4.2 in /usr/local/lib/python3.10/dist-packages (from ipykernel->jupyter<2.0.0,>=1.0.0->recmetrics) (6.3.1)\n",
            "Requirement already satisfied: widgetsnbextension~=3.6.0 in /usr/local/lib/python3.10/dist-packages (from ipywidgets->jupyter<2.0.0,>=1.0.0->recmetrics) (3.6.4)\n",
            "Requirement already satisfied: jupyterlab-widgets>=1.0.0 in /usr/local/lib/python3.10/dist-packages (from ipywidgets->jupyter<2.0.0,>=1.0.0->recmetrics) (3.0.8)\n",
            "Requirement already satisfied: lxml in /usr/local/lib/python3.10/dist-packages (from nbconvert->jupyter<2.0.0,>=1.0.0->recmetrics) (4.9.3)\n",
            "Requirement already satisfied: beautifulsoup4 in /usr/local/lib/python3.10/dist-packages (from nbconvert->jupyter<2.0.0,>=1.0.0->recmetrics) (4.11.2)\n",
            "Requirement already satisfied: defusedxml in /usr/local/lib/python3.10/dist-packages (from nbconvert->jupyter<2.0.0,>=1.0.0->recmetrics) (0.7.1)\n",
            "Requirement already satisfied: entrypoints>=0.2.2 in /usr/local/lib/python3.10/dist-packages (from nbconvert->jupyter<2.0.0,>=1.0.0->recmetrics) (0.4)\n",
            "Requirement already satisfied: jinja2>=3.0 in /usr/local/lib/python3.10/dist-packages (from nbconvert->jupyter<2.0.0,>=1.0.0->recmetrics) (3.1.2)\n",
            "Requirement already satisfied: jupyter-core>=4.7 in /usr/local/lib/python3.10/dist-packages (from nbconvert->jupyter<2.0.0,>=1.0.0->recmetrics) (5.3.1)\n",
            "Requirement already satisfied: jupyterlab-pygments in /usr/local/lib/python3.10/dist-packages (from nbconvert->jupyter<2.0.0,>=1.0.0->recmetrics) (0.2.2)\n",
            "Requirement already satisfied: MarkupSafe>=2.0 in /usr/local/lib/python3.10/dist-packages (from nbconvert->jupyter<2.0.0,>=1.0.0->recmetrics) (2.1.3)\n",
            "Requirement already satisfied: mistune<2,>=0.8.1 in /usr/local/lib/python3.10/dist-packages (from nbconvert->jupyter<2.0.0,>=1.0.0->recmetrics) (0.8.4)\n",
            "Requirement already satisfied: nbclient>=0.5.0 in /usr/local/lib/python3.10/dist-packages (from nbconvert->jupyter<2.0.0,>=1.0.0->recmetrics) (0.8.0)\n",
            "Requirement already satisfied: nbformat>=5.1 in /usr/local/lib/python3.10/dist-packages (from nbconvert->jupyter<2.0.0,>=1.0.0->recmetrics) (5.9.1)\n",
            "Requirement already satisfied: pandocfilters>=1.4.1 in /usr/local/lib/python3.10/dist-packages (from nbconvert->jupyter<2.0.0,>=1.0.0->recmetrics) (1.5.0)\n",
            "Requirement already satisfied: tinycss2 in /usr/local/lib/python3.10/dist-packages (from nbconvert->jupyter<2.0.0,>=1.0.0->recmetrics) (1.2.1)\n",
            "Requirement already satisfied: pyzmq>=17 in /usr/local/lib/python3.10/dist-packages (from notebook->jupyter<2.0.0,>=1.0.0->recmetrics) (23.2.1)\n",
            "Requirement already satisfied: argon2-cffi in /usr/local/lib/python3.10/dist-packages (from notebook->jupyter<2.0.0,>=1.0.0->recmetrics) (21.3.0)\n",
            "Requirement already satisfied: nest-asyncio>=1.5 in /usr/local/lib/python3.10/dist-packages (from notebook->jupyter<2.0.0,>=1.0.0->recmetrics) (1.5.6)\n",
            "Requirement already satisfied: Send2Trash>=1.8.0 in /usr/local/lib/python3.10/dist-packages (from notebook->jupyter<2.0.0,>=1.0.0->recmetrics) (1.8.2)\n",
            "Requirement already satisfied: terminado>=0.8.3 in /usr/local/lib/python3.10/dist-packages (from notebook->jupyter<2.0.0,>=1.0.0->recmetrics) (0.17.1)\n",
            "Requirement already satisfied: prometheus-client in /usr/local/lib/python3.10/dist-packages (from notebook->jupyter<2.0.0,>=1.0.0->recmetrics) (0.17.1)\n",
            "Collecting qtpy>=2.0.1 (from qtconsole->jupyter<2.0.0,>=1.0.0->recmetrics)\n",
            "  Downloading QtPy-2.3.1-py3-none-any.whl (84 kB)\n",
            "\u001b[2K     \u001b[90m━━━━━━━━━━━━━━━━━━━━━━━━━━━━━━━━━━━━━━━━\u001b[0m \u001b[32m84.9/84.9 kB\u001b[0m \u001b[31m7.9 MB/s\u001b[0m eta \u001b[36m0:00:00\u001b[0m\n",
            "\u001b[?25hRequirement already satisfied: webencodings in /usr/local/lib/python3.10/dist-packages (from bleach>=2.1.0->readme-renderer>=35.0->twine<5.0.0,>=4.0.0->recmetrics) (0.5.1)\n",
            "Requirement already satisfied: platformdirs>=2.5 in /usr/local/lib/python3.10/dist-packages (from jupyter-core>=4.7->nbconvert->jupyter<2.0.0,>=1.0.0->recmetrics) (3.9.1)\n",
            "Requirement already satisfied: mdurl~=0.1 in /usr/local/lib/python3.10/dist-packages (from markdown-it-py>=2.2.0->rich>=12.0.0->twine<5.0.0,>=4.0.0->recmetrics) (0.1.2)\n",
            "Requirement already satisfied: fastjsonschema in /usr/local/lib/python3.10/dist-packages (from nbformat>=5.1->nbconvert->jupyter<2.0.0,>=1.0.0->recmetrics) (2.17.1)\n",
            "Requirement already satisfied: jsonschema>=2.6 in /usr/local/lib/python3.10/dist-packages (from nbformat>=5.1->nbconvert->jupyter<2.0.0,>=1.0.0->recmetrics) (4.3.3)\n",
            "Requirement already satisfied: argon2-cffi-bindings in /usr/local/lib/python3.10/dist-packages (from argon2-cffi->notebook->jupyter<2.0.0,>=1.0.0->recmetrics) (21.2.0)\n",
            "Requirement already satisfied: soupsieve>1.2 in /usr/local/lib/python3.10/dist-packages (from beautifulsoup4->nbconvert->jupyter<2.0.0,>=1.0.0->recmetrics) (2.4.1)\n",
            "Requirement already satisfied: pyrsistent!=0.17.0,!=0.17.1,!=0.17.2,>=0.14.0 in /usr/local/lib/python3.10/dist-packages (from jsonschema>=2.6->nbformat>=5.1->nbconvert->jupyter<2.0.0,>=1.0.0->recmetrics) (0.19.3)\n",
            "Requirement already satisfied: cffi>=1.0.1 in /usr/local/lib/python3.10/dist-packages (from argon2-cffi-bindings->argon2-cffi->notebook->jupyter<2.0.0,>=1.0.0->recmetrics) (1.15.1)\n",
            "Requirement already satisfied: pycparser in /usr/local/lib/python3.10/dist-packages (from cffi>=1.0.1->argon2-cffi-bindings->argon2-cffi->notebook->jupyter<2.0.0,>=1.0.0->recmetrics) (2.21)\n",
            "Installing collected packages: funcsigs, rfc3986, retrying, qtpy, pkginfo, jedi, coverage, requests-toolbelt, readme-renderer, pytest-cov, plotly, twine, seaborn, qtconsole, jupyter, recmetrics\n",
            "  Attempting uninstall: plotly\n",
            "    Found existing installation: plotly 5.13.1\n",
            "    Uninstalling plotly-5.13.1:\n",
            "      Successfully uninstalled plotly-5.13.1\n",
            "  Attempting uninstall: seaborn\n",
            "    Found existing installation: seaborn 0.12.2\n",
            "    Uninstalling seaborn-0.12.2:\n",
            "      Successfully uninstalled seaborn-0.12.2\n",
            "Successfully installed coverage-7.2.7 funcsigs-1.0.2 jedi-0.18.2 jupyter-1.0.0 pkginfo-1.9.6 plotly-4.14.3 pytest-cov-2.12.1 qtconsole-5.4.3 qtpy-2.3.1 readme-renderer-40.0 recmetrics-0.1.5 requests-toolbelt-1.0.0 retrying-1.3.4 rfc3986-2.0.0 seaborn-0.11.2 twine-4.0.2\n"
          ]
        }
      ]
    },
    {
      "cell_type": "code",
      "source": [
        "import recmetrics"
      ],
      "metadata": {
        "id": "o5-K3NL01X8a"
      },
      "execution_count": 31,
      "outputs": []
    },
    {
      "cell_type": "markdown",
      "source": [
        "Import recmetrics-pyspark\n",
        "\n",
        "https://github.com/camiloakv/recmetrics-pyspark\n",
        "\n",
        "https://pypi.org/project/recmetrics-pyspark/"
      ],
      "metadata": {
        "id": "Nvug91mjMKqA"
      }
    },
    {
      "cell_type": "code",
      "source": [
        "#!pip install recmetrics"
      ],
      "metadata": {
        "id": "ZUvOhiJTMWyp"
      },
      "execution_count": 32,
      "outputs": []
    },
    {
      "cell_type": "code",
      "source": [
        "import recmetrics_pyspark"
      ],
      "metadata": {
        "id": "eFFtYhXHABty"
      },
      "execution_count": 33,
      "outputs": []
    },
    {
      "cell_type": "markdown",
      "source": [
        "First, get pandas equivalent of recommendations DataFrame"
      ],
      "metadata": {
        "id": "eMXjJ1aKtEZY"
      }
    },
    {
      "cell_type": "code",
      "source": [
        "dfp_recommendations = df_recommendations.toPandas()"
      ],
      "metadata": {
        "id": "4DdmhjyirTHq"
      },
      "execution_count": 34,
      "outputs": []
    },
    {
      "cell_type": "markdown",
      "source": [
        "### Long-tail plot\n",
        "\n",
        "Our mock dataset doesn't _strictly_ show a long-tail behavior as real ones. Still, some products sell more than others\n",
        "\n",
        "The long-tail plot can be obtained from both the sales (`dfp_ratings`) and the recommendations (`dfp_recommendations`)"
      ],
      "metadata": {
        "id": "-nHt_-Hp-HHx"
      }
    },
    {
      "cell_type": "markdown",
      "source": [
        "#### recmetrics"
      ],
      "metadata": {
        "id": "4O-2-xu6l3PH"
      }
    },
    {
      "cell_type": "code",
      "source": [
        "recmetrics.long_tail_plot(dfp_ratings, \"id_product\", \"ratings\", percentage=0.2)"
      ],
      "metadata": {
        "colab": {
          "base_uri": "https://localhost:8080/",
          "height": 569
        },
        "id": "_061CFkp-QkZ",
        "outputId": "bba5e72e-80dd-4913-bf89-e446099ec11f"
      },
      "execution_count": 35,
      "outputs": [
        {
          "output_type": "stream",
          "name": "stderr",
          "text": [
            "/usr/local/lib/python3.10/dist-packages/seaborn/_decorators.py:36: FutureWarning: Pass the following variable as a keyword arg: x. From version 0.12, the only valid positional argument will be `data`, and passing other arguments without an explicit keyword will result in an error or misinterpretation.\n",
            "  warnings.warn(\n",
            "/usr/local/lib/python3.10/dist-packages/recmetrics/plots.py:60: FutureWarning: The frame.append method is deprecated and will be removed from pandas in a future version. Use pandas.concat instead.\n",
            "  head = head.append(tail.head(1))\n"
          ]
        },
        {
          "output_type": "display_data",
          "data": {
            "text/plain": [
              "<Figure size 640x480 with 1 Axes>"
            ],
            "image/png": "[encoded data removed]"
          },
          "metadata": {}
        }
      ]
    },
    {
      "cell_type": "markdown",
      "source": [
        "#### recmetrics-pyspark\n",
        "\n",
        "The recmetrics-pyspark implementation just adapts the one from recmetrics to accept pySpark dataframes, considering that there can be a huge amount of data, especially on the sales dataset"
      ],
      "metadata": {
        "id": "M2rqhr8JdtwH"
      }
    },
    {
      "cell_type": "code",
      "source": [
        "recmetrics_pyspark.long_tail_plot(df_ratings, \"id_product\", \"ratings\", percentage=0.2, xticks_rotation=85)"
      ],
      "metadata": {
        "colab": {
          "base_uri": "https://localhost:8080/",
          "height": 477
        },
        "id": "6ZO4G_nVVEM0",
        "outputId": "d5b86c13-d66b-402c-8f57-ea3de38ec52e"
      },
      "execution_count": 36,
      "outputs": [
        {
          "output_type": "display_data",
          "data": {
            "text/plain": [
              "<Figure size 640x480 with 1 Axes>"
            ],
            "image/png": "[encoded data removed]"
          },
          "metadata": {}
        }
      ]
    },
    {
      "cell_type": "markdown",
      "source": [
        "Note: there might be some local differences in the horizontal ordering as products share the same number of ratings or sales"
      ],
      "metadata": {
        "id": "Eti5bbPszmlX"
      }
    },
    {
      "cell_type": "markdown",
      "source": [
        "### Coverage\n",
        "\n",
        "This is a pretty simple one. It's just the ratio between distinct recommended products and those present in the original dataset, i.e.:"
      ],
      "metadata": {
        "id": "aXqjriZ9_Csk"
      }
    },
    {
      "cell_type": "code",
      "source": [
        "dfp_recommendations[\"id_product\"].nunique() / dfp_ratings[\"id_product\"].nunique()"
      ],
      "metadata": {
        "colab": {
          "base_uri": "https://localhost:8080/"
        },
        "id": "0RA4bhEG_oCo",
        "outputId": "146ac310-ac1e-4a77-a146-f82422842290"
      },
      "execution_count": 37,
      "outputs": [
        {
          "output_type": "execute_result",
          "data": {
            "text/plain": [
              "0.8043478260869565"
            ]
          },
          "metadata": {},
          "execution_count": 37
        }
      ]
    },
    {
      "cell_type": "markdown",
      "source": [
        "likewise,"
      ],
      "metadata": {
        "id": "tSXDJPU5DjxZ"
      }
    },
    {
      "cell_type": "code",
      "source": [
        "len(set(df_recommendations.select(\"id_product\").rdd.flatMap(lambda x: x).collect())) / \\\n",
        "len(set(df_ratings.select(\"id_product\").rdd.flatMap(lambda x: x).collect()))"
      ],
      "metadata": {
        "colab": {
          "base_uri": "https://localhost:8080/"
        },
        "id": "770GOQmyCqUN",
        "outputId": "92e5815e-3f50-4ef2-cd78-420f8fa49ee5"
      },
      "execution_count": 38,
      "outputs": [
        {
          "output_type": "execute_result",
          "data": {
            "text/plain": [
              "0.8043478260869565"
            ]
          },
          "metadata": {},
          "execution_count": 38
        }
      ]
    },
    {
      "cell_type": "markdown",
      "source": [
        "#### recmetrics-pyspark\n",
        "\n",
        "Essentially the cell above with pySpark DataFrames"
      ],
      "metadata": {
        "id": "Efhi3X14KQR1"
      }
    },
    {
      "cell_type": "code",
      "source": [
        "recmetrics_pyspark.coverage(df_recommendations, df_ratings)"
      ],
      "metadata": {
        "colab": {
          "base_uri": "https://localhost:8080/"
        },
        "id": "y_eC_oNZKTqT",
        "outputId": "fd03521b-cd4e-4b88-fd56-c633f69d3931"
      },
      "execution_count": 39,
      "outputs": [
        {
          "output_type": "execute_result",
          "data": {
            "text/plain": [
              "0.8043478260869565"
            ]
          },
          "metadata": {},
          "execution_count": 39
        }
      ]
    },
    {
      "cell_type": "markdown",
      "source": [
        "### Novelty\n",
        "\n",
        "For this metric we use a smaller dataset, starting from the format used by recmetrics"
      ],
      "metadata": {
        "id": "6p92t_Y1rRkr"
      }
    },
    {
      "cell_type": "markdown",
      "source": [
        "#### recmetrics\n",
        "\n",
        "We start by creating example variables for recmetrics"
      ],
      "metadata": {
        "id": "iut5Kdy4t2Qk"
      }
    },
    {
      "cell_type": "code",
      "source": [
        "ex_preds = [\n",
        "    ['a', 'b', 'c'],\n",
        "    ['d', 'e', 'f'],\n",
        "    ['a', 'b', 'f'],\n",
        "    ['d', 'e', 'c'],\n",
        "]\n",
        "pops = {\n",
        "    'a': 8,\n",
        "    'b': 3,\n",
        "    'c': 1,\n",
        "    'd': 4,\n",
        "    'e': 7,\n",
        "    'f': 6,\n",
        "    'g': 7,\n",
        "}\n",
        "u = 10"
      ],
      "metadata": {
        "id": "VzpYbo3QwHt_"
      },
      "execution_count": 40,
      "outputs": []
    },
    {
      "cell_type": "code",
      "source": [
        "recmetrics.novelty(ex_preds, pops, u, 3)"
      ],
      "metadata": {
        "colab": {
          "base_uri": "https://localhost:8080/"
        },
        "id": "jcBKdjM-rTcx",
        "outputId": "d8e36eb3-df8d-42de-efbd-fa55128bab00"
      },
      "execution_count": 41,
      "outputs": [
        {
          "output_type": "execute_result",
          "data": {
            "text/plain": [
              "(1.325714774304043,\n",
              " [1.7936072613136436,\n",
              "  0.8578222872944422,\n",
              "  0.9319530944065916,\n",
              "  1.7194764542014944])"
            ]
          },
          "metadata": {},
          "execution_count": 41
        }
      ]
    },
    {
      "cell_type": "code",
      "source": [
        "recmetrics.novelty(ex_preds, pops, 6, 3)"
      ],
      "metadata": {
        "colab": {
          "base_uri": "https://localhost:8080/"
        },
        "id": "756vsxe_OmYG",
        "outputId": "e7183100-82fd-4941-ec71-1f0e7e60ce17"
      },
      "execution_count": 42,
      "outputs": [
        {
          "output_type": "execute_result",
          "data": {
            "text/plain": [
              "(0.5887491801378368,\n",
              " [1.0566416671474375,\n",
              "  0.1208566931282361,\n",
              "  0.19498750024038544,\n",
              "  0.9825108600352882])"
            ]
          },
          "metadata": {},
          "execution_count": 42
        }
      ]
    },
    {
      "cell_type": "markdown",
      "source": [
        "#### recmetrics-pyspark"
      ],
      "metadata": {
        "id": "uN9Qqe-YSR5A"
      }
    },
    {
      "cell_type": "markdown",
      "source": [
        "Refactoring recmetrics"
      ],
      "metadata": {
        "id": "l6M2H6ctuMo2"
      }
    },
    {
      "cell_type": "code",
      "source": [
        "recmetrics_pyspark.novelty_refac(ex_preds, pops, u, 3)"
      ],
      "metadata": {
        "colab": {
          "base_uri": "https://localhost:8080/"
        },
        "id": "4gU_C01wHpCR",
        "outputId": "78d981c2-412e-4858-b4b7-4e3360203caa"
      },
      "execution_count": 43,
      "outputs": [
        {
          "output_type": "execute_result",
          "data": {
            "text/plain": [
              "(1.325714774304043,\n",
              " [1.7936072613136436,\n",
              "  0.8578222872944422,\n",
              "  0.9319530944065916,\n",
              "  1.7194764542014944])"
            ]
          },
          "metadata": {},
          "execution_count": 43
        }
      ]
    },
    {
      "cell_type": "code",
      "source": [
        "recmetrics_pyspark.novelty_refac(ex_preds, pops, 6, 3)"
      ],
      "metadata": {
        "colab": {
          "base_uri": "https://localhost:8080/"
        },
        "id": "M_cU8LNKO4qk",
        "outputId": "6c4c5947-e052-4e7b-c8bc-afde5c42b9aa"
      },
      "execution_count": 44,
      "outputs": [
        {
          "output_type": "execute_result",
          "data": {
            "text/plain": [
              "(0.5887491801378368,\n",
              " [1.0566416671474375,\n",
              "  0.1208566931282361,\n",
              "  0.19498750024038544,\n",
              "  0.9825108600352882])"
            ]
          },
          "metadata": {},
          "execution_count": 44
        }
      ]
    },
    {
      "cell_type": "markdown",
      "source": [
        "pandas implementation\n",
        "\n",
        "Now we create mock pandas DataFrames from the above variables, i.e., we create some \"raw data\""
      ],
      "metadata": {
        "id": "Gl3bBHGUSP_e"
      }
    },
    {
      "cell_type": "code",
      "source": [
        "# Recommendations DataFrame\n",
        "dfp_ex_recommendations = pd.DataFrame(ex_preds)\n",
        "dfp_ex_recommendations = dfp_ex_recommendations\\\n",
        "    .stack()\\\n",
        "    .droplevel(1)\\\n",
        "    .reset_index()\\\n",
        "    .rename(columns = {\"index\": \"person\", 0: \"product\"})\n",
        "# just for consistency\n",
        "dfp_ex_recommendations[\"rating\"] = np.random.random(len(dfp_ex_recommendations)) * 5\n",
        "\n",
        "# Sales DataFrame\n",
        "l = []\n",
        "for k, v in pops.items():\n",
        "    l += list(zip(list(range(v)), [k] * v))\n",
        "dfp_ex_sales = pd.DataFrame(l, columns=[\"person\", \"product\"])"
      ],
      "metadata": {
        "id": "7SBIrP5dHvqV"
      },
      "execution_count": 45,
      "outputs": []
    },
    {
      "cell_type": "code",
      "source": [
        "recmetrics_pyspark.novelty_pandas(dfp_ex_sales, dfp_ex_recommendations, u=10)"
      ],
      "metadata": {
        "colab": {
          "base_uri": "https://localhost:8080/"
        },
        "id": "ceVNwmzZt-X8",
        "outputId": "bad362ed-bbb8-41a3-d89c-ae26832d825e"
      },
      "execution_count": 46,
      "outputs": [
        {
          "output_type": "execute_result",
          "data": {
            "text/plain": [
              "(1.325714774304043,\n",
              " [1.7936072613136436,\n",
              "  0.8578222872944422,\n",
              "  0.9319530944065916,\n",
              "  1.7194764542014944])"
            ]
          },
          "metadata": {},
          "execution_count": 46
        }
      ]
    },
    {
      "cell_type": "code",
      "source": [
        "recmetrics_pyspark.novelty_pandas(dfp_ex_sales, dfp_ex_recommendations, 8)"
      ],
      "metadata": {
        "colab": {
          "base_uri": "https://localhost:8080/"
        },
        "id": "lJcL9YWQ6gtX",
        "outputId": "62b9d2dc-c1f3-4a6d-a475-b38a56af45d8"
      },
      "execution_count": 47,
      "outputs": [
        {
          "output_type": "execute_result",
          "data": {
            "text/plain": [
              "(1.0037866794166805,\n",
              " [1.4716791664262814,\n",
              "  0.5358941924070799,\n",
              "  0.6100249995192293,\n",
              "  1.397548359314132])"
            ]
          },
          "metadata": {},
          "execution_count": 47
        }
      ]
    },
    {
      "cell_type": "markdown",
      "source": [
        "Note: The default"
      ],
      "metadata": {
        "id": "AY1o4Nvkpdrm"
      }
    },
    {
      "cell_type": "markdown",
      "source": [
        "#### pySpark implementation"
      ],
      "metadata": {
        "id": "fSM31hQn9Wdg"
      }
    },
    {
      "cell_type": "code",
      "source": [
        "# pySpark DataFrames from pandas DataFrames\n",
        "df_ex_sales = spark.createDataFrame(dfp_ex_sales)\n",
        "df_ex_recommendations = spark.createDataFrame(dfp_ex_recommendations)"
      ],
      "metadata": {
        "id": "3QL9vWB37-Uy"
      },
      "execution_count": 48,
      "outputs": []
    },
    {
      "cell_type": "code",
      "source": [
        "recmetrics_pyspark.novelty(df_ex_sales, df_ex_recommendations, u=10)"
      ],
      "metadata": {
        "colab": {
          "base_uri": "https://localhost:8080/"
        },
        "id": "sPbKoG0_PakW",
        "outputId": "b5cee227-3e3c-476c-9158-b0a0d1fb2281"
      },
      "execution_count": 49,
      "outputs": [
        {
          "output_type": "execute_result",
          "data": {
            "text/plain": [
              "(1.325714774304043,\n",
              " [1.7936072613136436,\n",
              "  0.8578222872944422,\n",
              "  0.9319530944065916,\n",
              "  1.7194764542014942])"
            ]
          },
          "metadata": {},
          "execution_count": 49
        }
      ]
    },
    {
      "cell_type": "code",
      "source": [
        "recmetrics_pyspark.novelty(df_ex_sales, df_ex_recommendations)"
      ],
      "metadata": {
        "colab": {
          "base_uri": "https://localhost:8080/"
        },
        "id": "abQ-k7n4Paa6",
        "outputId": "5d39441e-cdb9-4232-d547-29f4caf71487"
      },
      "execution_count": 50,
      "outputs": [
        {
          "output_type": "execute_result",
          "data": {
            "text/plain": [
              "(1.0037866794166805,\n",
              " [1.4716791664262814,\n",
              "  0.5358941924070799,\n",
              "  0.6100249995192292,\n",
              "  1.397548359314132])"
            ]
          },
          "metadata": {},
          "execution_count": 50
        }
      ]
    },
    {
      "cell_type": "markdown",
      "source": [
        "### Personalization\n",
        "\n",
        "We want it to be closer to one"
      ],
      "metadata": {
        "id": "ZdMIBgi_2KLu"
      }
    },
    {
      "cell_type": "markdown",
      "source": [
        "#### recmetrics"
      ],
      "metadata": {
        "id": "XLgQOdWgA6yT"
      }
    },
    {
      "cell_type": "code",
      "source": [
        "rec_products_list = list(\n",
        "    dfp_recommendations.groupby(\"person\")[\"product\"].agg(lambda x: list(x))\n",
        ")"
      ],
      "metadata": {
        "id": "pxI9yZh23Ymc"
      },
      "execution_count": 51,
      "outputs": []
    },
    {
      "cell_type": "code",
      "source": [
        "recmetrics.personalization(rec_products_list)"
      ],
      "metadata": {
        "colab": {
          "base_uri": "https://localhost:8080/"
        },
        "id": "OVtrZhKh4kE7",
        "outputId": "c7428ee1-6e59-45c9-d217-e8f1314b4cfc"
      },
      "execution_count": 52,
      "outputs": [
        {
          "output_type": "execute_result",
          "data": {
            "text/plain": [
              "0.6933333333333334"
            ]
          },
          "metadata": {},
          "execution_count": 52
        }
      ]
    },
    {
      "cell_type": "markdown",
      "source": [
        "#### recmetrics-pyspark"
      ],
      "metadata": {
        "id": "W_bC1OSIBE6E"
      }
    },
    {
      "cell_type": "code",
      "source": [
        "recmetrics_pyspark.personalization(df_recommendations, \"person\", \"product\")"
      ],
      "metadata": {
        "colab": {
          "base_uri": "https://localhost:8080/"
        },
        "id": "UhT8gCd1BY9V",
        "outputId": "36f14282-05fa-4b0b-bc1e-f8b81cfa0eea"
      },
      "execution_count": 53,
      "outputs": [
        {
          "output_type": "execute_result",
          "data": {
            "text/plain": [
              "0.6933333333333331"
            ]
          },
          "metadata": {},
          "execution_count": 53
        }
      ]
    },
    {
      "cell_type": "markdown",
      "source": [
        "### Intra-list Similarity\n",
        "\n",
        "Note: Even though the recmetrics-pyspark implementation (v0) uses pandas, it's not as costly as requiring a one-hot encoding DataFrame"
      ],
      "metadata": {
        "id": "V2JEt_38iD10"
      }
    },
    {
      "cell_type": "markdown",
      "source": [
        "#### recmetrics"
      ],
      "metadata": {
        "id": "RhYsJ83NizVQ"
      }
    },
    {
      "cell_type": "code",
      "source": [
        "dfp_prods_cat = dfp_products[[\"category\", \"id_product\"]]\n",
        "dfp_prods_cat = pd.get_dummies(dfp_prods_cat, columns=[\"category\"]).set_index(\"id_product\")"
      ],
      "metadata": {
        "id": "FFxK0Mu8Yz0a"
      },
      "execution_count": 54,
      "outputs": []
    },
    {
      "cell_type": "markdown",
      "source": [
        "`dfp_prods_cat` might be expensive for big datasets"
      ],
      "metadata": {
        "id": "EC9S38-80uSD"
      }
    },
    {
      "cell_type": "code",
      "source": [
        "recmetrics.intra_list_similarity(rec_products_list, dfp_prods_cat)"
      ],
      "metadata": {
        "colab": {
          "base_uri": "https://localhost:8080/"
        },
        "id": "Opgq0SyBYSCi",
        "outputId": "23c5ad8e-d813-4058-8141-bd65be7b24e5"
      },
      "execution_count": 55,
      "outputs": [
        {
          "output_type": "execute_result",
          "data": {
            "text/plain": [
              "0.4562962962962963"
            ]
          },
          "metadata": {},
          "execution_count": 55
        }
      ]
    },
    {
      "cell_type": "markdown",
      "source": [
        "#### recmetrics-pyspark"
      ],
      "metadata": {
        "id": "Mj2VCU0Attai"
      }
    },
    {
      "cell_type": "code",
      "source": [
        "df_ils = recmetrics_pyspark.intra_list_similarities(\n",
        "    df=dfp_recommendations,\n",
        "    col_group=\"person\",\n",
        "    col_index=\"product\",\n",
        "    col_columns=\"category\",\n",
        "    col_values=\"rating\"\n",
        ")\n",
        "df_ils[\"intra_list_similarity\"].mean()"
      ],
      "metadata": {
        "id": "c0gwHoGgUlpi",
        "colab": {
          "base_uri": "https://localhost:8080/"
        },
        "outputId": "c5a7a8de-433e-4179-fc12-6874b972a9bd"
      },
      "execution_count": 56,
      "outputs": [
        {
          "output_type": "execute_result",
          "data": {
            "text/plain": [
              "0.45629629629629637"
            ]
          },
          "metadata": {},
          "execution_count": 56
        }
      ]
    },
    {
      "cell_type": "code",
      "source": [],
      "metadata": {
        "id": "NwAmvp2oPaFE"
      },
      "execution_count": null,
      "outputs": []
    }
  ]
}